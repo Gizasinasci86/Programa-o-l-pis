{
  "nbformat": 4,
  "nbformat_minor": 0,
  "metadata": {
    "colab": {
      "provenance": [],
      "include_colab_link": true
    },
    "kernelspec": {
      "name": "python3",
      "display_name": "Python 3"
    }
  },
  "cells": [
    {
      "cell_type": "markdown",
      "metadata": {
        "id": "view-in-github",
        "colab_type": "text"
      },
      "source": [
        "<a href=\"https://colab.research.google.com/github/Gizasinasci86/Programa-o-l-pis/blob/main/Exerc%C3%ADcios_la%C3%A7os_de_repeti%C3%A7%C3%A3o.ipynb\" target=\"_parent\"><img src=\"https://colab.research.google.com/assets/colab-badge.svg\" alt=\"Open In Colab\"/></a>"
      ]
    },
    {
      "cell_type": "markdown",
      "metadata": {
        "id": "ewzF3g1pwKTn"
      },
      "source": [
        "# **Exercícios:** Laço de repetição "
      ]
    },
    {
      "cell_type": "markdown",
      "metadata": {
        "id": "atzz0HIH-lAt"
      },
      "source": [
        "**1)** Faça um programa que percorra a lista de cervejas. Se a cerveja for Heineken, imprima uma mensagem: \"Cheers.\". Caso contrário, imprima uma mensagem: \"Aprecie com moderação\"."
      ]
    },
    {
      "cell_type": "markdown",
      "source": [
        "**Resolução com um comando diferente da professora, mas o programa rodou.**"
      ],
      "metadata": {
        "id": "vy83CnTRRwl3"
      }
    },
    {
      "cell_type": "code",
      "source": [
        "cervejas = ['Heineken', 'Sol', 'Eisenbahn', 'Baden Baden', 'Amstel', 'Devassa'] \n",
        "cervejas"
      ],
      "metadata": {
        "id": "IPHwmzyz8-oj",
        "colab": {
          "base_uri": "https://localhost:8080/"
        },
        "outputId": "75534379-e431-4b12-b24d-cf23b20e72e4"
      },
      "execution_count": 3,
      "outputs": [
        {
          "output_type": "execute_result",
          "data": {
            "text/plain": [
              "['Heineken', 'Sol', 'Eisenbahn', 'Baden Baden', 'Amstel', 'Devassa']"
            ]
          },
          "metadata": {},
          "execution_count": 3
        }
      ]
    },
    {
      "cell_type": "code",
      "metadata": {
        "id": "iKxv66st9a4Z",
        "colab": {
          "base_uri": "https://localhost:8080/"
        },
        "outputId": "d39a42dc-1c5f-48ce-c64a-e38fc38777db"
      },
      "source": [
        "for cerveja in cervejas:\n",
        "  print(f'Cerveja: {cerveja}')\n"
      ],
      "execution_count": 4,
      "outputs": [
        {
          "output_type": "stream",
          "name": "stdout",
          "text": [
            "Cerveja: Heineken\n",
            "Cerveja: Sol\n",
            "Cerveja: Eisenbahn\n",
            "Cerveja: Baden Baden\n",
            "Cerveja: Amstel\n",
            "Cerveja: Devassa\n"
          ]
        }
      ]
    },
    {
      "cell_type": "code",
      "source": [
        "for cerveja in cervejas:\n",
        "  print(cerveja)\n",
        "  if cerveja == \"Heineken\":\n",
        "    print(\"--> Cheers\")\n",
        "  else:\n",
        "    print(\"--> Aprecie com moderação.\")\n",
        "  print(\"--\" * 14)"
      ],
      "metadata": {
        "colab": {
          "base_uri": "https://localhost:8080/"
        },
        "id": "pE2QsUlQmExY",
        "outputId": "bff68770-4422-4d5a-eb75-679476806721"
      },
      "execution_count": 5,
      "outputs": [
        {
          "output_type": "stream",
          "name": "stdout",
          "text": [
            "Heineken\n",
            "--> Cheers\n",
            "----------------------------\n",
            "Sol\n",
            "--> Aprecie com moderação.\n",
            "----------------------------\n",
            "Eisenbahn\n",
            "--> Aprecie com moderação.\n",
            "----------------------------\n",
            "Baden Baden\n",
            "--> Aprecie com moderação.\n",
            "----------------------------\n",
            "Amstel\n",
            "--> Aprecie com moderação.\n",
            "----------------------------\n",
            "Devassa\n",
            "--> Aprecie com moderação.\n",
            "----------------------------\n"
          ]
        }
      ]
    },
    {
      "cell_type": "markdown",
      "metadata": {
        "id": "39K8pz1lwhpt"
      },
      "source": [
        "**2)** Faça um programa que leia um número inteiro qualquer e exiba na tela sua tabuada.\n",
        "\n",
        "\n",
        "> Resolva com for\n",
        "\n"
      ]
    },
    {
      "cell_type": "code",
      "source": [
        "for c in range (1,2):\n",
        "  numero= int(input('Digite um número:'))\n",
        "\n",
        "tabuada = numero * 0, numero * 1, numero * 2, numero * 3, numero * 4\n",
        "\n"
      ],
      "metadata": {
        "colab": {
          "base_uri": "https://localhost:8080/"
        },
        "id": "TL0pJMCDonf1",
        "outputId": "6a49daa2-902a-4705-debe-4e21d652ba1c"
      },
      "execution_count": 6,
      "outputs": [
        {
          "name": "stdout",
          "output_type": "stream",
          "text": [
            "Digite um número:3\n"
          ]
        }
      ]
    },
    {
      "cell_type": "markdown",
      "source": [
        "**Minha tentativa ficou extremamente fora da resolução**\n",
        "\n",
        "--> Segue a **correção** da professora:"
      ],
      "metadata": {
        "id": "n_n9QgcjR-02"
      }
    },
    {
      "cell_type": "code",
      "source": [
        "numero = int(input(\"Digite um número para ver a sua tabuada:\"))\n",
        "\n",
        "for c in range(11):\n",
        "  print(f'{numero} x {c} = {numero * c}')"
      ],
      "metadata": {
        "colab": {
          "base_uri": "https://localhost:8080/"
        },
        "id": "QogLCO5uS6Fo",
        "outputId": "269ae486-b42b-43f9-ce2b-ff3c2dccefb8"
      },
      "execution_count": 36,
      "outputs": [
        {
          "output_type": "stream",
          "name": "stdout",
          "text": [
            "Digite um número para ver a sua tabuada:5\n",
            "5 x 0 = 0\n",
            "5 x 1 = 5\n",
            "5 x 2 = 10\n",
            "5 x 3 = 15\n",
            "5 x 4 = 20\n",
            "5 x 5 = 25\n",
            "5 x 6 = 30\n",
            "5 x 7 = 35\n",
            "5 x 8 = 40\n",
            "5 x 9 = 45\n",
            "5 x 10 = 50\n"
          ]
        }
      ]
    },
    {
      "cell_type": "markdown",
      "source": [
        "**3)** Crie um programa que mostre na tela todos os números pares que estão no intervalo entre 1 e 50."
      ],
      "metadata": {
        "id": "DUzkH19cJXJi"
      }
    },
    {
      "cell_type": "markdown",
      "source": [
        "**Correção ok** :))"
      ],
      "metadata": {
        "id": "_sliTxLdT8Z2"
      }
    },
    {
      "cell_type": "code",
      "source": [
        "for c in range (0,51,2):\n",
        "  print(c)\n"
      ],
      "metadata": {
        "id": "0rUzpAu1Jbkg",
        "colab": {
          "base_uri": "https://localhost:8080/"
        },
        "outputId": "494fedb4-9459-4b28-8eb4-8a74b8ca97f7"
      },
      "execution_count": 10,
      "outputs": [
        {
          "output_type": "stream",
          "name": "stdout",
          "text": [
            "0\n",
            "2\n",
            "4\n",
            "6\n",
            "8\n",
            "10\n",
            "12\n",
            "14\n",
            "16\n",
            "18\n",
            "20\n",
            "22\n",
            "24\n",
            "26\n",
            "28\n",
            "30\n",
            "32\n",
            "34\n",
            "36\n",
            "38\n",
            "40\n",
            "42\n",
            "44\n",
            "46\n",
            "48\n",
            "50\n"
          ]
        }
      ]
    },
    {
      "cell_type": "markdown",
      "source": [
        "**4)** Crie uma lista vazia, gere 10 números aleatórios entre 0 e 100 e os envie para dentro da lista. Imprima na tela sua lista com os números gerados de forma aleatória."
      ],
      "metadata": {
        "id": "aOmBRwD-85Nj"
      }
    },
    {
      "cell_type": "markdown",
      "source": [
        "**Eis a minha resolução a seguir. A sequência aleatório dos números não ficou automatizada.**"
      ],
      "metadata": {
        "id": "qNRdJFlWUHlt"
      }
    },
    {
      "cell_type": "code",
      "source": [
        "from random import randint"
      ],
      "metadata": {
        "id": "RgAMwGXF6Zvb"
      },
      "execution_count": 39,
      "outputs": []
    },
    {
      "cell_type": "code",
      "source": [
        "numeros = []\n",
        "\n",
        "for c in range (1,11):\n",
        "  numero = int(input(\"Digite um numero entre 0 e 100:\"))\n",
        "  numeros.append(numero)\n",
        "numeros\n"
      ],
      "metadata": {
        "colab": {
          "base_uri": "https://localhost:8080/"
        },
        "id": "e_yIoEs15LeQ",
        "outputId": "5a1d0ae0-242f-4184-a725-772d61f75101"
      },
      "execution_count": 40,
      "outputs": [
        {
          "name": "stdout",
          "output_type": "stream",
          "text": [
            "Digite um numero entre 0 e 100:5\n",
            "Digite um numero entre 0 e 100:6\n",
            "Digite um numero entre 0 e 100:45\n",
            "Digite um numero entre 0 e 100:77\n",
            "Digite um numero entre 0 e 100:89\n",
            "Digite um numero entre 0 e 100:99\n",
            "Digite um numero entre 0 e 100:52\n",
            "Digite um numero entre 0 e 100:15\n",
            "Digite um numero entre 0 e 100:20\n",
            "Digite um numero entre 0 e 100:22\n"
          ]
        },
        {
          "output_type": "execute_result",
          "data": {
            "text/plain": [
              "[5, 6, 45, 77, 89, 99, 52, 15, 20, 22]"
            ]
          },
          "metadata": {},
          "execution_count": 40
        }
      ]
    },
    {
      "cell_type": "markdown",
      "source": [
        "**Correção da professora a seguir:**"
      ],
      "metadata": {
        "id": "_Vf32jAiUfP8"
      }
    },
    {
      "cell_type": "code",
      "source": [
        "from random import randint\n",
        "\n",
        "lista = []\n",
        "\n",
        "for c in range(10):\n",
        "  aleatorio = randint(0,100)\n",
        "  lista.append(aleatorio)\n",
        "lista"
      ],
      "metadata": {
        "colab": {
          "base_uri": "https://localhost:8080/"
        },
        "id": "p4RteMauUjx7",
        "outputId": "e94b99da-a344-4f56-f2ad-0f8fff6ef405"
      },
      "execution_count": 38,
      "outputs": [
        {
          "output_type": "execute_result",
          "data": {
            "text/plain": [
              "[20, 84, 40, 34, 54, 32, 97, 20, 26, 72]"
            ]
          },
          "metadata": {},
          "execution_count": 38
        }
      ]
    },
    {
      "cell_type": "markdown",
      "source": [
        "**5)** Crie um jogo de adivinhação de um número. O computador deve gerar um número aleatório entre 1 e 10. Sua missão é tentar adivinhar. O programa deve retornar:\n",
        "\n",
        "- computador: Eu pensei em um número entre 1 e 10. Qual é a sua jogada?\n",
        "\n",
        "Se a sua jogada estiver certa, retorne que o jogador venceu. Caso contrário, retorne que o computador venceu."
      ],
      "metadata": {
        "id": "XLN2dTGb-ux9"
      }
    },
    {
      "cell_type": "markdown",
      "source": [
        "**Essa eu nem consegui pensar numa forma de escrever o código. Segue direto a resolução da professora:**"
      ],
      "metadata": {
        "id": "sv0wqOp5cjOP"
      }
    },
    {
      "cell_type": "code",
      "source": [
        "from random import randint\n",
        "computador = randint(0,10)\n",
        "jogada = int(input(\"Eu pensei em um número entre 0 e 10. Tente adivinhar. Qual a sua jogada? \"))\n",
        "if jogada == computador:\n",
        "  print(f'Você venceu! Eu também pensei no número {computador}.')\n",
        "else:\n",
        "  print(f'Eu venci! O número que pensei foi {computador}.')"
      ],
      "metadata": {
        "id": "SrtreJNB-1QP",
        "colab": {
          "base_uri": "https://localhost:8080/"
        },
        "outputId": "e33e0410-a30c-4134-e197-df265b3fca19"
      },
      "execution_count": 45,
      "outputs": [
        {
          "output_type": "stream",
          "name": "stdout",
          "text": [
            "Eu pensei em um número entre 0 e 10. Tente adivinhar. Qual a sua jogada? 4\n",
            "Eu venci! O número que pensei foi 1.\n"
          ]
        }
      ]
    },
    {
      "cell_type": "markdown",
      "source": [
        "**6)** Crie uma lista vazia, gere números aleatórios e envie para dentro da lista. Sua missão é imprimir na tela uma escadinha de  aleatórios com 10 linhas:\n",
        "\n",
        "- [0]\n",
        "- [0, 0]\n",
        "- [0, 0, 0]\n",
        "- [0, 0, 0, 0]\n",
        "- [0, 0, 0, 0, 0]\n",
        "- [0, 0, 0, 0, 0, 0]\n",
        "- [0, 0, 0, 0, 0, 0, 0]\n",
        "- [0, 0, 0, 0, 0, 0, 0, 0]\n",
        "- [0, 0, 0, 0, 0, 0, 0, 0, 0]\n",
        "- [0, 0, 0, 0, 0, 0, 0, 0, 0, 0]"
      ],
      "metadata": {
        "id": "7uhR7tRX-3tA"
      }
    },
    {
      "cell_type": "markdown",
      "source": [
        "**Eis a minha tentativa a seguir. Pensei em utilizar o randint, mas fiquei perdida em como utilizaria essa biblioteca dentro da função. Até tentei uma linha de raciocínio, mas nada rodava.**"
      ],
      "metadata": {
        "id": "gBqNEaxOb2fP"
      }
    },
    {
      "cell_type": "code",
      "source": [
        "numeros_1 = []\n",
        "\n",
        "for c in range (1,2):\n",
        "  numero = int(input(\"Digite um numero:\"))\n",
        "  numeros_1.append(numero)\n",
        "numeros_1\n",
        "\n",
        "numeros_2 = []\n",
        "\n",
        "for c in range (1,3):\n",
        "  numero = int(input(\"Digite um numero:\"))\n",
        "  numeros_2.append(numero)\n",
        "numeros_2\n",
        "\n",
        "numeros_3 = []\n",
        "\n",
        "for c in range (1,4):\n",
        "  numero = int(input(\"Digite um numero:\"))\n",
        "  numeros_3.append(numero)\n",
        "numeros_3\n",
        "\n",
        "numeros_4 = []\n",
        "\n",
        "for c in range (1,5):\n",
        "  numero = int(input(\"Digite um numero:\"))\n",
        "  numeros_4.append(numero)\n",
        "numeros_4\n",
        "\n",
        "numeros_5 = []\n",
        "\n",
        "for c in range (1,6):\n",
        "  numero = int(input(\"Digite um numero:\"))\n",
        "  numeros_5.append(numero)\n",
        "numeros_5\n",
        "\n",
        "numeros_6 = []\n",
        "\n",
        "for c in range (1,7):\n",
        "  numero = int(input(\"Digite um numero:\"))\n",
        "  numeros_6.append(numero)\n",
        "numeros_6\n",
        "\n",
        "numeros_7 = []\n",
        "\n",
        "for c in range (1,8):\n",
        "  numero = int(input(\"Digite um numero:\"))\n",
        "  numeros_7.append(numero)\n",
        "numeros_7\n",
        "\n",
        "numeros_8 = []\n",
        "\n",
        "for c in range (1,9):\n",
        "  numero = int(input(\"Digite um numero:\"))\n",
        "  numeros_8.append(numero)\n",
        "numeros_8\n",
        "\n",
        "numeros_9 = []\n",
        "\n",
        "for c in range (1,10):\n",
        "  numero = int(input(\"Digite um numero:\"))\n",
        "  numeros_9.append(numero)\n",
        "numeros_9\n",
        "\n",
        "numeros_10 = []\n",
        "\n",
        "for c in range (1,11):\n",
        "  numero = int(input(\"Digite um numero:\"))\n",
        "  numeros_10.append(numero)\n",
        "numeros_10\n",
        "\n",
        "print('numero_1')\n",
        "print('numero_2')\n",
        "print('numero_3')\n",
        "print('numero_4')\n",
        "print('numero_5')\n",
        "print('numero_6')\n",
        "print('numero_7')\n",
        "print('numero_8')\n",
        "print('numero_9')\n",
        "print('numero_10')\n"
      ],
      "metadata": {
        "id": "zVMkyywb-_AF",
        "colab": {
          "base_uri": "https://localhost:8080/"
        },
        "outputId": "7c361635-503b-41e5-adc5-092075cad5d5"
      },
      "execution_count": 35,
      "outputs": [
        {
          "output_type": "stream",
          "name": "stdout",
          "text": [
            "Digite um numero:1\n",
            "Digite um numero:2\n",
            "Digite um numero:3\n",
            "Digite um numero:4\n",
            "Digite um numero:5\n",
            "Digite um numero:6\n",
            "Digite um numero:7\n",
            "Digite um numero:8\n",
            "Digite um numero:9\n",
            "Digite um numero:10\n",
            "Digite um numero:11\n",
            "Digite um numero:12\n",
            "Digite um numero:13\n",
            "Digite um numero:14\n",
            "Digite um numero:15\n",
            "Digite um numero:16\n",
            "Digite um numero:17\n",
            "Digite um numero:18\n",
            "Digite um numero:19\n",
            "Digite um numero:20\n",
            "Digite um numero:21\n",
            "Digite um numero:22\n",
            "Digite um numero:23\n",
            "Digite um numero:24\n",
            "Digite um numero:25\n",
            "Digite um numero:26\n",
            "Digite um numero:27\n",
            "Digite um numero:28\n",
            "Digite um numero:29\n",
            "Digite um numero:30\n",
            "Digite um numero:31\n",
            "Digite um numero:32\n",
            "Digite um numero:33\n",
            "Digite um numero:34\n",
            "Digite um numero:35\n",
            "Digite um numero:36\n",
            "Digite um numero:37\n",
            "Digite um numero:38\n",
            "Digite um numero:39\n",
            "Digite um numero:40\n",
            "Digite um numero:41\n",
            "Digite um numero:42\n",
            "Digite um numero:43\n",
            "Digite um numero:44\n",
            "Digite um numero:45\n",
            "Digite um numero:46\n",
            "Digite um numero:47\n",
            "Digite um numero:48\n",
            "Digite um numero:49\n",
            "Digite um numero:50\n",
            "Digite um numero:51\n",
            "Digite um numero:52\n",
            "Digite um numero:53\n",
            "Digite um numero:54\n",
            "Digite um numero:55\n",
            "numero_1\n",
            "numero_2\n",
            "numero_3\n",
            "numero_4\n",
            "numero_5\n",
            "numero_6\n",
            "numero_7\n",
            "numero_8\n",
            "numero_9\n",
            "numero_10\n"
          ]
        }
      ]
    },
    {
      "cell_type": "markdown",
      "source": [
        "Tenebrosa hehe\n",
        "\n",
        "**Agora a resolução da professora**"
      ],
      "metadata": {
        "id": "PtxFbSRidsXt"
      }
    },
    {
      "cell_type": "code",
      "source": [
        "lista = []\n",
        "for c in range(10):\n",
        "  aleatorio = randint(0,100)\n",
        "  lista.append(aleatorio)\n",
        "  print(lista)"
      ],
      "metadata": {
        "colab": {
          "base_uri": "https://localhost:8080/"
        },
        "id": "lGoetes8d1UW",
        "outputId": "fa88dc10-9b43-4e39-e1ec-80b050323c2e"
      },
      "execution_count": 46,
      "outputs": [
        {
          "output_type": "stream",
          "name": "stdout",
          "text": [
            "[34]\n",
            "[34, 65]\n",
            "[34, 65, 73]\n",
            "[34, 65, 73, 62]\n",
            "[34, 65, 73, 62, 46]\n",
            "[34, 65, 73, 62, 46, 62]\n",
            "[34, 65, 73, 62, 46, 62, 90]\n",
            "[34, 65, 73, 62, 46, 62, 90, 45]\n",
            "[34, 65, 73, 62, 46, 62, 90, 45, 89]\n",
            "[34, 65, 73, 62, 46, 62, 90, 45, 89, 91]\n"
          ]
        }
      ]
    },
    {
      "cell_type": "markdown",
      "source": [
        "**Lindo!!!**\n",
        "\n",
        "\n",
        "Deixarei alguns extras da minha parte.\n"
      ],
      "metadata": {
        "id": "RhpiZcD3d-tW"
      }
    },
    {
      "cell_type": "code",
      "source": [
        "lista = []\n",
        "for c in range(20):\n",
        "  aleatorio = randint(0,500)\n",
        "  lista.append(aleatorio)\n",
        "  print(lista)"
      ],
      "metadata": {
        "colab": {
          "base_uri": "https://localhost:8080/"
        },
        "id": "4veuePvceKel",
        "outputId": "c97c9508-fcca-493f-e1f7-f2a98a8b2f17"
      },
      "execution_count": 48,
      "outputs": [
        {
          "output_type": "stream",
          "name": "stdout",
          "text": [
            "[124]\n",
            "[124, 493]\n",
            "[124, 493, 486]\n",
            "[124, 493, 486, 224]\n",
            "[124, 493, 486, 224, 76]\n",
            "[124, 493, 486, 224, 76, 83]\n",
            "[124, 493, 486, 224, 76, 83, 397]\n",
            "[124, 493, 486, 224, 76, 83, 397, 444]\n",
            "[124, 493, 486, 224, 76, 83, 397, 444, 284]\n",
            "[124, 493, 486, 224, 76, 83, 397, 444, 284, 341]\n",
            "[124, 493, 486, 224, 76, 83, 397, 444, 284, 341, 230]\n",
            "[124, 493, 486, 224, 76, 83, 397, 444, 284, 341, 230, 231]\n",
            "[124, 493, 486, 224, 76, 83, 397, 444, 284, 341, 230, 231, 401]\n",
            "[124, 493, 486, 224, 76, 83, 397, 444, 284, 341, 230, 231, 401, 111]\n",
            "[124, 493, 486, 224, 76, 83, 397, 444, 284, 341, 230, 231, 401, 111, 278]\n",
            "[124, 493, 486, 224, 76, 83, 397, 444, 284, 341, 230, 231, 401, 111, 278, 418]\n",
            "[124, 493, 486, 224, 76, 83, 397, 444, 284, 341, 230, 231, 401, 111, 278, 418, 466]\n",
            "[124, 493, 486, 224, 76, 83, 397, 444, 284, 341, 230, 231, 401, 111, 278, 418, 466, 295]\n",
            "[124, 493, 486, 224, 76, 83, 397, 444, 284, 341, 230, 231, 401, 111, 278, 418, 466, 295, 309]\n",
            "[124, 493, 486, 224, 76, 83, 397, 444, 284, 341, 230, 231, 401, 111, 278, 418, 466, 295, 309, 490]\n"
          ]
        }
      ]
    },
    {
      "cell_type": "code",
      "source": [
        "lista = []\n",
        "for c in range(30):\n",
        "  aleatorio = randint(0,100)\n",
        "  lista.append(aleatorio)\n",
        "  print(lista)"
      ],
      "metadata": {
        "colab": {
          "base_uri": "https://localhost:8080/"
        },
        "id": "sJeGoJ4QeXA9",
        "outputId": "17b728f6-0e5b-4898-ea71-eaadf123a846"
      },
      "execution_count": 49,
      "outputs": [
        {
          "output_type": "stream",
          "name": "stdout",
          "text": [
            "[17]\n",
            "[17, 0]\n",
            "[17, 0, 55]\n",
            "[17, 0, 55, 76]\n",
            "[17, 0, 55, 76, 20]\n",
            "[17, 0, 55, 76, 20, 2]\n",
            "[17, 0, 55, 76, 20, 2, 46]\n",
            "[17, 0, 55, 76, 20, 2, 46, 1]\n",
            "[17, 0, 55, 76, 20, 2, 46, 1, 52]\n",
            "[17, 0, 55, 76, 20, 2, 46, 1, 52, 28]\n",
            "[17, 0, 55, 76, 20, 2, 46, 1, 52, 28, 100]\n",
            "[17, 0, 55, 76, 20, 2, 46, 1, 52, 28, 100, 95]\n",
            "[17, 0, 55, 76, 20, 2, 46, 1, 52, 28, 100, 95, 89]\n",
            "[17, 0, 55, 76, 20, 2, 46, 1, 52, 28, 100, 95, 89, 75]\n",
            "[17, 0, 55, 76, 20, 2, 46, 1, 52, 28, 100, 95, 89, 75, 22]\n",
            "[17, 0, 55, 76, 20, 2, 46, 1, 52, 28, 100, 95, 89, 75, 22, 83]\n",
            "[17, 0, 55, 76, 20, 2, 46, 1, 52, 28, 100, 95, 89, 75, 22, 83, 81]\n",
            "[17, 0, 55, 76, 20, 2, 46, 1, 52, 28, 100, 95, 89, 75, 22, 83, 81, 52]\n",
            "[17, 0, 55, 76, 20, 2, 46, 1, 52, 28, 100, 95, 89, 75, 22, 83, 81, 52, 52]\n",
            "[17, 0, 55, 76, 20, 2, 46, 1, 52, 28, 100, 95, 89, 75, 22, 83, 81, 52, 52, 20]\n",
            "[17, 0, 55, 76, 20, 2, 46, 1, 52, 28, 100, 95, 89, 75, 22, 83, 81, 52, 52, 20, 6]\n",
            "[17, 0, 55, 76, 20, 2, 46, 1, 52, 28, 100, 95, 89, 75, 22, 83, 81, 52, 52, 20, 6, 21]\n",
            "[17, 0, 55, 76, 20, 2, 46, 1, 52, 28, 100, 95, 89, 75, 22, 83, 81, 52, 52, 20, 6, 21, 87]\n",
            "[17, 0, 55, 76, 20, 2, 46, 1, 52, 28, 100, 95, 89, 75, 22, 83, 81, 52, 52, 20, 6, 21, 87, 14]\n",
            "[17, 0, 55, 76, 20, 2, 46, 1, 52, 28, 100, 95, 89, 75, 22, 83, 81, 52, 52, 20, 6, 21, 87, 14, 72]\n",
            "[17, 0, 55, 76, 20, 2, 46, 1, 52, 28, 100, 95, 89, 75, 22, 83, 81, 52, 52, 20, 6, 21, 87, 14, 72, 23]\n",
            "[17, 0, 55, 76, 20, 2, 46, 1, 52, 28, 100, 95, 89, 75, 22, 83, 81, 52, 52, 20, 6, 21, 87, 14, 72, 23, 93]\n",
            "[17, 0, 55, 76, 20, 2, 46, 1, 52, 28, 100, 95, 89, 75, 22, 83, 81, 52, 52, 20, 6, 21, 87, 14, 72, 23, 93, 59]\n",
            "[17, 0, 55, 76, 20, 2, 46, 1, 52, 28, 100, 95, 89, 75, 22, 83, 81, 52, 52, 20, 6, 21, 87, 14, 72, 23, 93, 59, 83]\n",
            "[17, 0, 55, 76, 20, 2, 46, 1, 52, 28, 100, 95, 89, 75, 22, 83, 81, 52, 52, 20, 6, 21, 87, 14, 72, 23, 93, 59, 83, 88]\n"
          ]
        }
      ]
    },
    {
      "cell_type": "code",
      "source": [
        "lista = []\n",
        "for c in range(40):\n",
        "  aleatorio = randint(0,1)\n",
        "  lista.append(aleatorio)\n",
        "  print(lista)"
      ],
      "metadata": {
        "colab": {
          "base_uri": "https://localhost:8080/"
        },
        "id": "6Z2_6yV_eg9c",
        "outputId": "06d997e8-09f2-4a15-f858-af0a17265eec"
      },
      "execution_count": 50,
      "outputs": [
        {
          "output_type": "stream",
          "name": "stdout",
          "text": [
            "[1]\n",
            "[1, 0]\n",
            "[1, 0, 0]\n",
            "[1, 0, 0, 1]\n",
            "[1, 0, 0, 1, 1]\n",
            "[1, 0, 0, 1, 1, 0]\n",
            "[1, 0, 0, 1, 1, 0, 0]\n",
            "[1, 0, 0, 1, 1, 0, 0, 0]\n",
            "[1, 0, 0, 1, 1, 0, 0, 0, 1]\n",
            "[1, 0, 0, 1, 1, 0, 0, 0, 1, 0]\n",
            "[1, 0, 0, 1, 1, 0, 0, 0, 1, 0, 1]\n",
            "[1, 0, 0, 1, 1, 0, 0, 0, 1, 0, 1, 0]\n",
            "[1, 0, 0, 1, 1, 0, 0, 0, 1, 0, 1, 0, 0]\n",
            "[1, 0, 0, 1, 1, 0, 0, 0, 1, 0, 1, 0, 0, 1]\n",
            "[1, 0, 0, 1, 1, 0, 0, 0, 1, 0, 1, 0, 0, 1, 1]\n",
            "[1, 0, 0, 1, 1, 0, 0, 0, 1, 0, 1, 0, 0, 1, 1, 1]\n",
            "[1, 0, 0, 1, 1, 0, 0, 0, 1, 0, 1, 0, 0, 1, 1, 1, 1]\n",
            "[1, 0, 0, 1, 1, 0, 0, 0, 1, 0, 1, 0, 0, 1, 1, 1, 1, 0]\n",
            "[1, 0, 0, 1, 1, 0, 0, 0, 1, 0, 1, 0, 0, 1, 1, 1, 1, 0, 0]\n",
            "[1, 0, 0, 1, 1, 0, 0, 0, 1, 0, 1, 0, 0, 1, 1, 1, 1, 0, 0, 1]\n",
            "[1, 0, 0, 1, 1, 0, 0, 0, 1, 0, 1, 0, 0, 1, 1, 1, 1, 0, 0, 1, 1]\n",
            "[1, 0, 0, 1, 1, 0, 0, 0, 1, 0, 1, 0, 0, 1, 1, 1, 1, 0, 0, 1, 1, 0]\n",
            "[1, 0, 0, 1, 1, 0, 0, 0, 1, 0, 1, 0, 0, 1, 1, 1, 1, 0, 0, 1, 1, 0, 1]\n",
            "[1, 0, 0, 1, 1, 0, 0, 0, 1, 0, 1, 0, 0, 1, 1, 1, 1, 0, 0, 1, 1, 0, 1, 0]\n",
            "[1, 0, 0, 1, 1, 0, 0, 0, 1, 0, 1, 0, 0, 1, 1, 1, 1, 0, 0, 1, 1, 0, 1, 0, 1]\n",
            "[1, 0, 0, 1, 1, 0, 0, 0, 1, 0, 1, 0, 0, 1, 1, 1, 1, 0, 0, 1, 1, 0, 1, 0, 1, 1]\n",
            "[1, 0, 0, 1, 1, 0, 0, 0, 1, 0, 1, 0, 0, 1, 1, 1, 1, 0, 0, 1, 1, 0, 1, 0, 1, 1, 1]\n",
            "[1, 0, 0, 1, 1, 0, 0, 0, 1, 0, 1, 0, 0, 1, 1, 1, 1, 0, 0, 1, 1, 0, 1, 0, 1, 1, 1, 1]\n",
            "[1, 0, 0, 1, 1, 0, 0, 0, 1, 0, 1, 0, 0, 1, 1, 1, 1, 0, 0, 1, 1, 0, 1, 0, 1, 1, 1, 1, 1]\n",
            "[1, 0, 0, 1, 1, 0, 0, 0, 1, 0, 1, 0, 0, 1, 1, 1, 1, 0, 0, 1, 1, 0, 1, 0, 1, 1, 1, 1, 1, 1]\n",
            "[1, 0, 0, 1, 1, 0, 0, 0, 1, 0, 1, 0, 0, 1, 1, 1, 1, 0, 0, 1, 1, 0, 1, 0, 1, 1, 1, 1, 1, 1, 1]\n",
            "[1, 0, 0, 1, 1, 0, 0, 0, 1, 0, 1, 0, 0, 1, 1, 1, 1, 0, 0, 1, 1, 0, 1, 0, 1, 1, 1, 1, 1, 1, 1, 0]\n",
            "[1, 0, 0, 1, 1, 0, 0, 0, 1, 0, 1, 0, 0, 1, 1, 1, 1, 0, 0, 1, 1, 0, 1, 0, 1, 1, 1, 1, 1, 1, 1, 0, 1]\n",
            "[1, 0, 0, 1, 1, 0, 0, 0, 1, 0, 1, 0, 0, 1, 1, 1, 1, 0, 0, 1, 1, 0, 1, 0, 1, 1, 1, 1, 1, 1, 1, 0, 1, 0]\n",
            "[1, 0, 0, 1, 1, 0, 0, 0, 1, 0, 1, 0, 0, 1, 1, 1, 1, 0, 0, 1, 1, 0, 1, 0, 1, 1, 1, 1, 1, 1, 1, 0, 1, 0, 0]\n",
            "[1, 0, 0, 1, 1, 0, 0, 0, 1, 0, 1, 0, 0, 1, 1, 1, 1, 0, 0, 1, 1, 0, 1, 0, 1, 1, 1, 1, 1, 1, 1, 0, 1, 0, 0, 1]\n",
            "[1, 0, 0, 1, 1, 0, 0, 0, 1, 0, 1, 0, 0, 1, 1, 1, 1, 0, 0, 1, 1, 0, 1, 0, 1, 1, 1, 1, 1, 1, 1, 0, 1, 0, 0, 1, 0]\n",
            "[1, 0, 0, 1, 1, 0, 0, 0, 1, 0, 1, 0, 0, 1, 1, 1, 1, 0, 0, 1, 1, 0, 1, 0, 1, 1, 1, 1, 1, 1, 1, 0, 1, 0, 0, 1, 0, 1]\n",
            "[1, 0, 0, 1, 1, 0, 0, 0, 1, 0, 1, 0, 0, 1, 1, 1, 1, 0, 0, 1, 1, 0, 1, 0, 1, 1, 1, 1, 1, 1, 1, 0, 1, 0, 0, 1, 0, 1, 0]\n",
            "[1, 0, 0, 1, 1, 0, 0, 0, 1, 0, 1, 0, 0, 1, 1, 1, 1, 0, 0, 1, 1, 0, 1, 0, 1, 1, 1, 1, 1, 1, 1, 0, 1, 0, 0, 1, 0, 1, 0, 1]\n"
          ]
        }
      ]
    },
    {
      "cell_type": "code",
      "source": [
        "lista = []\n",
        "for c in range(50):\n",
        "  aleatorio = randint(0,1)\n",
        "  lista.append(aleatorio)\n",
        "  print(lista)"
      ],
      "metadata": {
        "colab": {
          "base_uri": "https://localhost:8080/"
        },
        "id": "n5mWBUd1epBd",
        "outputId": "1ed6bd59-7ed9-4542-90f0-4fd0c12a0387"
      },
      "execution_count": 53,
      "outputs": [
        {
          "output_type": "stream",
          "name": "stdout",
          "text": [
            "[1]\n",
            "[1, 1]\n",
            "[1, 1, 0]\n",
            "[1, 1, 0, 1]\n",
            "[1, 1, 0, 1, 1]\n",
            "[1, 1, 0, 1, 1, 0]\n",
            "[1, 1, 0, 1, 1, 0, 0]\n",
            "[1, 1, 0, 1, 1, 0, 0, 1]\n",
            "[1, 1, 0, 1, 1, 0, 0, 1, 1]\n",
            "[1, 1, 0, 1, 1, 0, 0, 1, 1, 0]\n",
            "[1, 1, 0, 1, 1, 0, 0, 1, 1, 0, 1]\n",
            "[1, 1, 0, 1, 1, 0, 0, 1, 1, 0, 1, 0]\n",
            "[1, 1, 0, 1, 1, 0, 0, 1, 1, 0, 1, 0, 1]\n",
            "[1, 1, 0, 1, 1, 0, 0, 1, 1, 0, 1, 0, 1, 0]\n",
            "[1, 1, 0, 1, 1, 0, 0, 1, 1, 0, 1, 0, 1, 0, 0]\n",
            "[1, 1, 0, 1, 1, 0, 0, 1, 1, 0, 1, 0, 1, 0, 0, 0]\n",
            "[1, 1, 0, 1, 1, 0, 0, 1, 1, 0, 1, 0, 1, 0, 0, 0, 0]\n",
            "[1, 1, 0, 1, 1, 0, 0, 1, 1, 0, 1, 0, 1, 0, 0, 0, 0, 1]\n",
            "[1, 1, 0, 1, 1, 0, 0, 1, 1, 0, 1, 0, 1, 0, 0, 0, 0, 1, 0]\n",
            "[1, 1, 0, 1, 1, 0, 0, 1, 1, 0, 1, 0, 1, 0, 0, 0, 0, 1, 0, 0]\n",
            "[1, 1, 0, 1, 1, 0, 0, 1, 1, 0, 1, 0, 1, 0, 0, 0, 0, 1, 0, 0, 0]\n",
            "[1, 1, 0, 1, 1, 0, 0, 1, 1, 0, 1, 0, 1, 0, 0, 0, 0, 1, 0, 0, 0, 0]\n",
            "[1, 1, 0, 1, 1, 0, 0, 1, 1, 0, 1, 0, 1, 0, 0, 0, 0, 1, 0, 0, 0, 0, 0]\n",
            "[1, 1, 0, 1, 1, 0, 0, 1, 1, 0, 1, 0, 1, 0, 0, 0, 0, 1, 0, 0, 0, 0, 0, 1]\n",
            "[1, 1, 0, 1, 1, 0, 0, 1, 1, 0, 1, 0, 1, 0, 0, 0, 0, 1, 0, 0, 0, 0, 0, 1, 1]\n",
            "[1, 1, 0, 1, 1, 0, 0, 1, 1, 0, 1, 0, 1, 0, 0, 0, 0, 1, 0, 0, 0, 0, 0, 1, 1, 1]\n",
            "[1, 1, 0, 1, 1, 0, 0, 1, 1, 0, 1, 0, 1, 0, 0, 0, 0, 1, 0, 0, 0, 0, 0, 1, 1, 1, 1]\n",
            "[1, 1, 0, 1, 1, 0, 0, 1, 1, 0, 1, 0, 1, 0, 0, 0, 0, 1, 0, 0, 0, 0, 0, 1, 1, 1, 1, 0]\n",
            "[1, 1, 0, 1, 1, 0, 0, 1, 1, 0, 1, 0, 1, 0, 0, 0, 0, 1, 0, 0, 0, 0, 0, 1, 1, 1, 1, 0, 1]\n",
            "[1, 1, 0, 1, 1, 0, 0, 1, 1, 0, 1, 0, 1, 0, 0, 0, 0, 1, 0, 0, 0, 0, 0, 1, 1, 1, 1, 0, 1, 0]\n",
            "[1, 1, 0, 1, 1, 0, 0, 1, 1, 0, 1, 0, 1, 0, 0, 0, 0, 1, 0, 0, 0, 0, 0, 1, 1, 1, 1, 0, 1, 0, 1]\n",
            "[1, 1, 0, 1, 1, 0, 0, 1, 1, 0, 1, 0, 1, 0, 0, 0, 0, 1, 0, 0, 0, 0, 0, 1, 1, 1, 1, 0, 1, 0, 1, 0]\n",
            "[1, 1, 0, 1, 1, 0, 0, 1, 1, 0, 1, 0, 1, 0, 0, 0, 0, 1, 0, 0, 0, 0, 0, 1, 1, 1, 1, 0, 1, 0, 1, 0, 1]\n",
            "[1, 1, 0, 1, 1, 0, 0, 1, 1, 0, 1, 0, 1, 0, 0, 0, 0, 1, 0, 0, 0, 0, 0, 1, 1, 1, 1, 0, 1, 0, 1, 0, 1, 1]\n",
            "[1, 1, 0, 1, 1, 0, 0, 1, 1, 0, 1, 0, 1, 0, 0, 0, 0, 1, 0, 0, 0, 0, 0, 1, 1, 1, 1, 0, 1, 0, 1, 0, 1, 1, 1]\n",
            "[1, 1, 0, 1, 1, 0, 0, 1, 1, 0, 1, 0, 1, 0, 0, 0, 0, 1, 0, 0, 0, 0, 0, 1, 1, 1, 1, 0, 1, 0, 1, 0, 1, 1, 1, 1]\n",
            "[1, 1, 0, 1, 1, 0, 0, 1, 1, 0, 1, 0, 1, 0, 0, 0, 0, 1, 0, 0, 0, 0, 0, 1, 1, 1, 1, 0, 1, 0, 1, 0, 1, 1, 1, 1, 0]\n",
            "[1, 1, 0, 1, 1, 0, 0, 1, 1, 0, 1, 0, 1, 0, 0, 0, 0, 1, 0, 0, 0, 0, 0, 1, 1, 1, 1, 0, 1, 0, 1, 0, 1, 1, 1, 1, 0, 0]\n",
            "[1, 1, 0, 1, 1, 0, 0, 1, 1, 0, 1, 0, 1, 0, 0, 0, 0, 1, 0, 0, 0, 0, 0, 1, 1, 1, 1, 0, 1, 0, 1, 0, 1, 1, 1, 1, 0, 0, 1]\n",
            "[1, 1, 0, 1, 1, 0, 0, 1, 1, 0, 1, 0, 1, 0, 0, 0, 0, 1, 0, 0, 0, 0, 0, 1, 1, 1, 1, 0, 1, 0, 1, 0, 1, 1, 1, 1, 0, 0, 1, 1]\n",
            "[1, 1, 0, 1, 1, 0, 0, 1, 1, 0, 1, 0, 1, 0, 0, 0, 0, 1, 0, 0, 0, 0, 0, 1, 1, 1, 1, 0, 1, 0, 1, 0, 1, 1, 1, 1, 0, 0, 1, 1, 1]\n",
            "[1, 1, 0, 1, 1, 0, 0, 1, 1, 0, 1, 0, 1, 0, 0, 0, 0, 1, 0, 0, 0, 0, 0, 1, 1, 1, 1, 0, 1, 0, 1, 0, 1, 1, 1, 1, 0, 0, 1, 1, 1, 1]\n",
            "[1, 1, 0, 1, 1, 0, 0, 1, 1, 0, 1, 0, 1, 0, 0, 0, 0, 1, 0, 0, 0, 0, 0, 1, 1, 1, 1, 0, 1, 0, 1, 0, 1, 1, 1, 1, 0, 0, 1, 1, 1, 1, 1]\n",
            "[1, 1, 0, 1, 1, 0, 0, 1, 1, 0, 1, 0, 1, 0, 0, 0, 0, 1, 0, 0, 0, 0, 0, 1, 1, 1, 1, 0, 1, 0, 1, 0, 1, 1, 1, 1, 0, 0, 1, 1, 1, 1, 1, 1]\n",
            "[1, 1, 0, 1, 1, 0, 0, 1, 1, 0, 1, 0, 1, 0, 0, 0, 0, 1, 0, 0, 0, 0, 0, 1, 1, 1, 1, 0, 1, 0, 1, 0, 1, 1, 1, 1, 0, 0, 1, 1, 1, 1, 1, 1, 0]\n",
            "[1, 1, 0, 1, 1, 0, 0, 1, 1, 0, 1, 0, 1, 0, 0, 0, 0, 1, 0, 0, 0, 0, 0, 1, 1, 1, 1, 0, 1, 0, 1, 0, 1, 1, 1, 1, 0, 0, 1, 1, 1, 1, 1, 1, 0, 1]\n",
            "[1, 1, 0, 1, 1, 0, 0, 1, 1, 0, 1, 0, 1, 0, 0, 0, 0, 1, 0, 0, 0, 0, 0, 1, 1, 1, 1, 0, 1, 0, 1, 0, 1, 1, 1, 1, 0, 0, 1, 1, 1, 1, 1, 1, 0, 1, 1]\n",
            "[1, 1, 0, 1, 1, 0, 0, 1, 1, 0, 1, 0, 1, 0, 0, 0, 0, 1, 0, 0, 0, 0, 0, 1, 1, 1, 1, 0, 1, 0, 1, 0, 1, 1, 1, 1, 0, 0, 1, 1, 1, 1, 1, 1, 0, 1, 1, 1]\n",
            "[1, 1, 0, 1, 1, 0, 0, 1, 1, 0, 1, 0, 1, 0, 0, 0, 0, 1, 0, 0, 0, 0, 0, 1, 1, 1, 1, 0, 1, 0, 1, 0, 1, 1, 1, 1, 0, 0, 1, 1, 1, 1, 1, 1, 0, 1, 1, 1, 1]\n",
            "[1, 1, 0, 1, 1, 0, 0, 1, 1, 0, 1, 0, 1, 0, 0, 0, 0, 1, 0, 0, 0, 0, 0, 1, 1, 1, 1, 0, 1, 0, 1, 0, 1, 1, 1, 1, 0, 0, 1, 1, 1, 1, 1, 1, 0, 1, 1, 1, 1, 1]\n"
          ]
        }
      ]
    }
  ]
}
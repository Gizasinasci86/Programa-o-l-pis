{
  "nbformat": 4,
  "nbformat_minor": 0,
  "metadata": {
    "colab": {
      "provenance": [],
      "include_colab_link": true
    },
    "kernelspec": {
      "name": "python3",
      "display_name": "Python 3"
    },
    "language_info": {
      "name": "python"
    }
  },
  "cells": [
    {
      "cell_type": "markdown",
      "metadata": {
        "id": "view-in-github",
        "colab_type": "text"
      },
      "source": [
        "<a href=\"https://colab.research.google.com/github/Gizasinasci86/Programa-o-l-pis/blob/main/exer_introdu%C3%A7%C3%A3o_a_python_condi%C3%A7%C3%B5es.ipynb\" target=\"_parent\"><img src=\"https://colab.research.google.com/assets/colab-badge.svg\" alt=\"Open In Colab\"/></a>"
      ]
    },
    {
      "cell_type": "markdown",
      "source": [
        "## **Exercícios:** Condições.\n"
      ],
      "metadata": {
        "id": "bsfjYyUQq_j8"
      }
    },
    {
      "cell_type": "markdown",
      "source": [
        "**1)** Escreva um programa que leia a velocidade de um carro. \n",
        "Se ele ultrapassar 80km/h, mostre uma mensagem dizendo que ele foi multado.\n",
        "\n",
        "- A multa vai custar R$ 7,00 por cada Km acima do limite."
      ],
      "metadata": {
        "id": "vKyi8GHrzf4B"
      }
    },
    {
      "cell_type": "code",
      "source": [
        "velocidade = float(input('Insira a velocidade detectada:'))\n",
        "\n",
        "if velocidade > 80:\n",
        "  print(f'Você ultrapassou a velocidade limite da via e está sendo multado. A multa vai custar R$ 7,00 por cada km acima do limite.')\n",
        "\n",
        "#Faltou a mensagem para quem estiver com a velocidade dentro do permitido. Já encontrando um erro que eu estava cometendo, digitando a condição contrário junto ao comando \"else\" sendo que naturalmente, ele já é a condição contrária.\n",
        "\n",
        "else:\n",
        "  print('Você está dentro da velocidade permitida.')"
      ],
      "metadata": {
        "id": "cSgIO8wrztXs",
        "colab": {
          "base_uri": "https://localhost:8080/"
        },
        "outputId": "af79b74f-c3ba-4564-aa2f-826afee74b4c"
      },
      "execution_count": 32,
      "outputs": [
        {
          "output_type": "stream",
          "name": "stdout",
          "text": [
            "Insira a velocidade detectada:50\n",
            "Você está dentro da velocidade permitida.\n"
          ]
        }
      ]
    },
    {
      "cell_type": "markdown",
      "source": [
        "**2)** Escreva um programa que leia dois números inteiros \n",
        "e compare-os, mostrando na tela uma mensagem:\n",
        "O primeiro_valor é maior. O segundo_valor é maior. \n",
        "Não existe valor maior, os dois são iguais."
      ],
      "metadata": {
        "id": "h6w10nozz7em"
      }
    },
    {
      "cell_type": "code",
      "source": [
        "primeiro_valor = int(input('Digite o primeiro número:'))\n",
        "segundo_valor = int(input('Digite o segundo número:'))\n",
        "\n",
        "if primeiro_valor > segundo_valor:\n",
        "  print(f'O {primeiro_valor} é maior')\n",
        "\n",
        "#ERRO 2: \"elif primeiro_valor < segundo_valor:\" USANDO O COMANDO \"ELIF\" COMO FUNÇÃO DO ELSE.\n",
        " \n",
        "#O correto é:\n",
        "\n",
        "elif primeiro_valor == segundo_valor:\n",
        "  print(f'Não existe valor maior, o {primeiro_valor} é igual ao {segundo_valor}')\n",
        "\n",
        "#ERRO 3: usando o comando \"if\" no lugar do comando \"else\" e achando que a igualdade seria no final da lógica (e ainda me esqueci que 'igual' é ==)\n",
        "#if primeiro_valor = segundo_valor:\n",
        " \n",
        "#Correção:\n",
        "\n",
        "else:\n",
        "  print(f'O {segundo_valor} é maior.')\n"
      ],
      "metadata": {
        "id": "QPT7AN-O0PoP",
        "colab": {
          "base_uri": "https://localhost:8080/"
        },
        "outputId": "56fe7006-0e19-4f11-c004-a25e324aaed7"
      },
      "execution_count": 36,
      "outputs": [
        {
          "output_type": "stream",
          "name": "stdout",
          "text": [
            "Digite o primeiro número:10\n",
            "Digite o segundo número:10\n",
            "Não existe valor maior, o 10 é igual ao 10\n"
          ]
        }
      ]
    },
    {
      "cell_type": "markdown",
      "source": [
        "**3)** Crie um programa que receba:\n",
        "\n",
        "a) O valor da conta em um restaurante (valor total do consumo)\n",
        "\n",
        "b) O número de amigos que vão dividir o valor.\n",
        "\n",
        "Depois disso calcule e mostre:\n",
        "- O valor dos 10% (cota do garçom) \n",
        "- O valor final da conta (consumo + 10%) \n",
        "- O valor que cada cliente deve pagar."
      ],
      "metadata": {
        "id": "w7Y0KzK10XNo"
      }
    },
    {
      "cell_type": "code",
      "source": [
        "#Esse exercício eu não consegui desenvolver. O pouco que fiz, deletei.\n",
        "\n",
        "#CORREÇÃO:\n",
        "\n",
        "conta_total = float(input(\"Digite o valor total da conta: \"))\n",
        "numero_amigos = int(input(\"Digite o número de amigos que pagarão a conta: \"))\n",
        "garçom = conta_total * 0.1\n",
        "conta_final = conta_total + garçom\n",
        "print(f'O valor dos 10%: {garçom}')\n",
        "print(f'O valor final da conta: {conta_final}')\n",
        "print(f'O valor que cada cliente vai pagar: {conta_final / numero_amigos}')"
      ],
      "metadata": {
        "colab": {
          "base_uri": "https://localhost:8080/"
        },
        "id": "fuw67sw0Ox4V",
        "outputId": "960b0c9c-74ed-4ffd-e544-a1eb9673663b"
      },
      "execution_count": 37,
      "outputs": [
        {
          "output_type": "stream",
          "name": "stdout",
          "text": [
            "Digite o valor total da conta: 150.56\n",
            "Digite o número de amigos que pagarão a conta: 5\n",
            "O valor dos 10%: 15.056000000000001\n",
            "O valor final da conta: 165.616\n",
            "O valor que cada cliente vai pagar: 33.123200000000004\n"
          ]
        }
      ]
    },
    {
      "cell_type": "markdown",
      "source": [
        "**4)** Crie um sistema de empréstimo.\n",
        "\n",
        "O usuário precisa ter entre 18 e 65 anos.\n",
        "O salário deve ser maior ou igual a R$ 1.500.\n",
        "O valor do empréstimo deverá ser até cinco vezes \n",
        "o salário.\n"
      ],
      "metadata": {
        "id": "qDCviiww0jgZ"
      }
    },
    {
      "cell_type": "code",
      "source": [
        "#Minha resolução e há muitos erros :/\n",
        "\n",
        "idade = int(input('insira a sua idade'))\n",
        "\n",
        "if 18 < idade < 65:\n",
        "  print('Idade permitida para empréstimo. Agora precisamos verificar se há linha de crédito para você.')\n",
        "else 18 > idade > 65:\n",
        "  print('Idade não permitida para empréstimo.')\n",
        "\n",
        "\n",
        "salario = float(input('Insira o valor do seu salário:'))\n",
        "\n",
        "if salario > 1500:\n",
        "  credito = salario * 5\n",
        "\n",
        "  print(f'Você tem um crédito disponível de R${credito}.')\n",
        "\n",
        "else salario < 1500:\n",
        "  print('Infelizmente você não tem crédito disponível para empréstimo.')\n"
      ],
      "metadata": {
        "id": "LqmxERyx0x6u",
        "colab": {
          "base_uri": "https://localhost:8080/",
          "height": 131
        },
        "outputId": "66c625d8-a4cd-4fd3-abd4-c10b7140d252"
      },
      "execution_count": 30,
      "outputs": [
        {
          "output_type": "error",
          "ename": "SyntaxError",
          "evalue": "ignored",
          "traceback": [
            "\u001b[0;36m  File \u001b[0;32m\"<ipython-input-30-7196352317a2>\"\u001b[0;36m, line \u001b[0;32m5\u001b[0m\n\u001b[0;31m    else 18 > idade > 65:\u001b[0m\n\u001b[0m         ^\u001b[0m\n\u001b[0;31mSyntaxError\u001b[0m\u001b[0;31m:\u001b[0m expected ':'\n"
          ]
        }
      ]
    },
    {
      "cell_type": "code",
      "source": [
        "# Correção do 4º exercício:\n",
        "\n",
        "idade = int(input(\"Digite a sua idade: \"))\n",
        "if idade >= 18 and idade <= 65:\n",
        "  salario = float(input(\"Digite o valor do seu salário: \"))\n",
        "  if salario >= 1500:\n",
        "    emprestimo = float(input(\"Digite o valor do empréstimo: \"))\n",
        "    if emprestimo <= 5 * salario:\n",
        "      print(f'Parabéns! seu empréstimo de R$ {emprestimo:.2f} foi aprovado com sucesso.')\n",
        "    else:\n",
        "      print(\"Lamento, o valor do empréstimo deve ser até cinco vezes o salário.\")\n",
        "  else:\n",
        "    print(\"Lamento, seu salário precisa ser maior ou igual a R$ 1.500.\")\n",
        "else:\n",
        "  print(\"Lamento, você não tem a idade permitida.\")\n"
      ],
      "metadata": {
        "colab": {
          "base_uri": "https://localhost:8080/"
        },
        "id": "FGOQKBg5XfEc",
        "outputId": "dc716a49-00be-49f1-d12a-8b085525a015"
      },
      "execution_count": 46,
      "outputs": [
        {
          "output_type": "stream",
          "name": "stdout",
          "text": [
            "Digite a sua idade: 37\n",
            "Digite o valor do seu salário: 4000\n",
            "Digite o valor do empréstimo: 25000\n",
            "Lamento, o valor do empréstimo deve ser até cinco vezes o salário.\n"
          ]
        }
      ]
    },
    {
      "cell_type": "markdown",
      "source": [
        "**5)** A confederação Nacional de Natação precisa de um programa que leia o ano de nascimento de um atleta e mostre sua categoria, de acordo com a idade:\n",
        "\n",
        "- Até 9 anos: MIRIM\n",
        "- Até 14 anos: INFANTIL\n",
        "- Até 19 anos: JUNIOR\n",
        "- Até 24 anos: SÊNIOR\n",
        "- Acima: MASTER"
      ],
      "metadata": {
        "id": "LvkVc4-zxCRq"
      }
    },
    {
      "cell_type": "code",
      "source": [
        "ano_nascimento= int(input('Insira o ano do seu nascimento:'))\n",
        "\n",
        "idade = 2023- ano_nascimento\n",
        "print(idade)\n",
        "\n",
        "if idade <= 9:\n",
        "  print('MIRIM')\n",
        "if 9 < idade <= 14:\n",
        "  print('INFANTIL')\n",
        "if 14 < idade <= 19:\n",
        "  print('JUNIOR')\n",
        "if 19 < idade <= 24:\n",
        "  print('SÊNIOR')\n",
        "if idade > 24:\n",
        "  print('MASTER')\n",
        "\n"
      ],
      "metadata": {
        "id": "qTz9KeMfxJuj",
        "colab": {
          "base_uri": "https://localhost:8080/"
        },
        "outputId": "6d6f2b91-1493-4297-c880-10076687bc9b"
      },
      "execution_count": 23,
      "outputs": [
        {
          "output_type": "stream",
          "name": "stdout",
          "text": [
            "Insira o ano do seu nascimento:2009\n",
            "14\n",
            "INFANTIL\n"
          ]
        }
      ]
    },
    {
      "cell_type": "code",
      "source": [
        "# O 5º exercício eu fiz utilizando somente o comando \"if\". O programa rodou, porém a resposta da professora contêm os comandos \"elif\" e \"else\"\n",
        "\n",
        "# CORREÇÃO:\n",
        "\n",
        "ano = int(input(\"Digite seu ano de nascimento e descubra a sua categoria: \"))\n",
        "idade = 2020 - ano\n",
        "if idade <= 9:\n",
        "  print(\"Até 9 anos: MIRIM.\")\n",
        "elif idade > 9 and idade <= 14:\n",
        "  print(\"Até 14 anos: INFANTIL.\")\n",
        "elif idade > 14 and idade <= 19:\n",
        "  print(\"Até 19 anos: JUNIOR.\")\n",
        "elif idade > 19 and idade <= 24:\n",
        "  print(\"Até 24 anos: SÊNIOR.\")\n",
        "else:\n",
        "  print(\"Acima de 24 anos: MASTER.\")"
      ],
      "metadata": {
        "colab": {
          "base_uri": "https://localhost:8080/"
        },
        "id": "MkOs2dUqPskR",
        "outputId": "dce9473e-87fb-400e-df71-bcc35dd51482"
      },
      "execution_count": 38,
      "outputs": [
        {
          "output_type": "stream",
          "name": "stdout",
          "text": [
            "Digite seu ano de nascimento e descubra a sua categoria: 20\n",
            "Acima de 24 anos: MASTER.\n"
          ]
        }
      ]
    },
    {
      "cell_type": "markdown",
      "source": [
        "**6)** Crie um sistema que recebe uma idade e retorna se o usuário é \n",
        "criança, adolescente, adulto ou idoso."
      ],
      "metadata": {
        "id": "vuKd7HgAxKkl"
      }
    },
    {
      "cell_type": "code",
      "source": [
        "idade = float(input(\"Insira a sua idade:\"))\n",
        "\n",
        "if idade <= 12:\n",
        "  print(\"Você é uma criança!\")\n",
        "if 12 < idade <= 18:\n",
        "  print(\"Você é um adolescente!\")\n",
        "if 18 < idade <= 59:\n",
        "  print(\"Você é um adulto!\")\n",
        "if idade > 59:\n",
        "  print(\"Você é um idoso!\")"
      ],
      "metadata": {
        "id": "GAV6wMh4xR_C",
        "colab": {
          "base_uri": "https://localhost:8080/"
        },
        "outputId": "2a24c65c-17c3-45e0-85b9-6ef751ca8b9e"
      },
      "execution_count": 19,
      "outputs": [
        {
          "output_type": "stream",
          "name": "stdout",
          "text": [
            "Insira a sua idade:60\n",
            "Você é um idoso!\n"
          ]
        }
      ]
    },
    {
      "cell_type": "code",
      "source": [
        "#Questão 06 é a mesma situação que a 5. Segue a correção da professora do curso:\n",
        "\n",
        "idade = int(input(\"Digite a sua idade: \"))\n",
        "if idade <= 12:\n",
        "  print(\"Você é criança.\")\n",
        "elif idade > 12 and idade < 18:\n",
        "  print(\"Você é adolescente.\")\n",
        "elif idade >= 18 and idade < 60:\n",
        "  print(\"Você é adulto.\")\n",
        "else:\n",
        "  print(\"Você idoso.\")"
      ],
      "metadata": {
        "colab": {
          "base_uri": "https://localhost:8080/"
        },
        "id": "wh2IFqkeUe7n",
        "outputId": "d943f348-7a2a-40fe-ed92-0289fafb5f2c"
      },
      "execution_count": 42,
      "outputs": [
        {
          "output_type": "stream",
          "name": "stdout",
          "text": [
            "Digite a sua idade: 60\n",
            "Você idoso.\n"
          ]
        }
      ]
    }
  ]
}
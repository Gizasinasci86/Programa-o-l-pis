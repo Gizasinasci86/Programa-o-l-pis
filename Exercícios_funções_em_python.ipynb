{
  "nbformat": 4,
  "nbformat_minor": 0,
  "metadata": {
    "colab": {
      "provenance": [],
      "include_colab_link": true
    },
    "kernelspec": {
      "name": "python3",
      "display_name": "Python 3"
    }
  },
  "cells": [
    {
      "cell_type": "markdown",
      "metadata": {
        "id": "view-in-github",
        "colab_type": "text"
      },
      "source": [
        "<a href=\"https://colab.research.google.com/github/Gizasinasci86/Programa-o-l-pis/blob/main/Exerc%C3%ADcios_fun%C3%A7%C3%B5es_em_python.ipynb\" target=\"_parent\"><img src=\"https://colab.research.google.com/assets/colab-badge.svg\" alt=\"Open In Colab\"/></a>"
      ]
    },
    {
      "cell_type": "markdown",
      "metadata": {
        "id": "ewzF3g1pwKTn"
      },
      "source": [
        "# **Exercícios:** funções em python"
      ]
    },
    {
      "cell_type": "markdown",
      "source": [
        "**1)**  Crie uma função que recebe um número. O programa deve informar se o valor é negativo ou positivo."
      ],
      "metadata": {
        "id": "BFYlLQVvIyLV"
      }
    },
    {
      "cell_type": "code",
      "source": [
        "def valor(numero):\n",
        "  if numero < 0:\n",
        "    print(f'O número é negativo.')\n",
        "  else:\n",
        "    print(f'O número é positivo.')\n",
        "\n",
        "valor(-10)\n",
        "valor(20)\n"
      ],
      "metadata": {
        "id": "BBzXLVifhtFn",
        "colab": {
          "base_uri": "https://localhost:8080/"
        },
        "outputId": "cec5e348-9cdf-4cc1-e7e7-324ab187f8ce"
      },
      "execution_count": 13,
      "outputs": [
        {
          "output_type": "stream",
          "name": "stdout",
          "text": [
            "O número é negativo.\n",
            "O número é positivo.\n"
          ]
        }
      ]
    },
    {
      "cell_type": "markdown",
      "source": [
        "**Correção da professora:**"
      ],
      "metadata": {
        "id": "OUGC74TnszRQ"
      }
    },
    {
      "cell_type": "code",
      "source": [
        "def valor(numero):\n",
        "  if numero >= 0:\n",
        "    print(\"Positivo\")\n",
        "  else:\n",
        "    print(\"Negativo\")\n",
        "\n",
        "\n",
        "valor(15)\n",
        "valor(-5)\n",
        "valor(100)\n",
        "valor(-1)\n"
      ],
      "metadata": {
        "colab": {
          "base_uri": "https://localhost:8080/"
        },
        "id": "r9v72sDos4Pw",
        "outputId": "68f8cf3b-dd1d-4005-95a6-58caa02865d7"
      },
      "execution_count": 42,
      "outputs": [
        {
          "output_type": "stream",
          "name": "stdout",
          "text": [
            "Positivo\n",
            "Negativo\n",
            "Positivo\n",
            "Negativo\n"
          ]
        }
      ]
    },
    {
      "cell_type": "markdown",
      "source": [
        "**2)** Crie uma função que receba a nota de um aluno. Se a nota dele for maior ou igual a 6, ele passou de ano. Caso contrário, o aluno reprovou."
      ],
      "metadata": {
        "id": "qgXcCGqUJrCg"
      }
    },
    {
      "cell_type": "code",
      "source": [
        "def nota(numero):\n",
        "  if numero >= 6:\n",
        "    print(f'O aluno passou de ano.')\n",
        "  else:\n",
        "    print(f'O aluno foi reprovado.')\n",
        "\n",
        "\n",
        "nota(2)\n",
        "nota(10)\n",
        "nota(8)\n",
        "nota(5)\n",
        "nota(4)"
      ],
      "metadata": {
        "id": "5g4wCzuthunl",
        "colab": {
          "base_uri": "https://localhost:8080/"
        },
        "outputId": "9b3acde2-e2e2-441d-d622-0af33ae54345"
      },
      "execution_count": 14,
      "outputs": [
        {
          "output_type": "stream",
          "name": "stdout",
          "text": [
            "O aluno foi reprovado.\n",
            "O aluno passou de ano.\n",
            "O aluno passou de ano.\n",
            "O aluno foi reprovado.\n",
            "O aluno foi reprovado.\n"
          ]
        }
      ]
    },
    {
      "cell_type": "markdown",
      "source": [
        "**Correção da professora**"
      ],
      "metadata": {
        "id": "KIglngXvtO7P"
      }
    },
    {
      "cell_type": "code",
      "source": [
        "def avaliacao(nota):\n",
        "  if nota >= 6:\n",
        "    print(\"Parabéns! Você passou de ano.\")\n",
        "  else:\n",
        "    print(\"Infelizmente você reprovou o ano.\")"
      ],
      "metadata": {
        "id": "28Rd86RAtTgC"
      },
      "execution_count": 43,
      "outputs": []
    },
    {
      "cell_type": "markdown",
      "source": [
        "**3)** Crie uma função que execute uma contagem regressiva. O usuário deve passar como parâmetro o valor inicial e o final da contagem. "
      ],
      "metadata": {
        "id": "wQRYRwJCKEMT"
      }
    },
    {
      "cell_type": "markdown",
      "source": [
        "**Correção. Esse eu não consegui fazer  :((**"
      ],
      "metadata": {
        "id": "4JKDua-LtYAq"
      }
    },
    {
      "cell_type": "code",
      "source": [
        "def contagem_regressiva(valor_a, valor_b):\n",
        "  for c in range(valor_a, valor_b, -1):\n",
        "    print(c)\n",
        "contagem_regressiva(20,0)"
      ],
      "metadata": {
        "id": "_lcHWcjPhwmB",
        "colab": {
          "base_uri": "https://localhost:8080/"
        },
        "outputId": "2b3b2a83-c98f-4792-8a66-c218d80dad5d"
      },
      "execution_count": 44,
      "outputs": [
        {
          "output_type": "stream",
          "name": "stdout",
          "text": [
            "20\n",
            "19\n",
            "18\n",
            "17\n",
            "16\n",
            "15\n",
            "14\n",
            "13\n",
            "12\n",
            "11\n",
            "10\n",
            "9\n",
            "8\n",
            "7\n",
            "6\n",
            "5\n",
            "4\n",
            "3\n",
            "2\n",
            "1\n"
          ]
        }
      ]
    },
    {
      "cell_type": "markdown",
      "source": [
        "**4)** Escreva uma função que, dado o valor da conta de um restaurante, calcule e exiba a gorjeta do garçom, considerando 10% do valor da conta."
      ],
      "metadata": {
        "id": "7aU05D6lKflf"
      }
    },
    {
      "cell_type": "code",
      "source": [
        "resultado = def multiplicação(a,b):\n",
        "              return a * 0.10\n",
        "\n",
        "a= float(input('Insira o valor da conta do cliente:'))\n",
        "\n",
        "print('A gorjeta do garçom, será {resultado}')\n",
        "\n"
      ],
      "metadata": {
        "id": "mKCFlPtnhyD8",
        "colab": {
          "base_uri": "https://localhost:8080/",
          "height": 131
        },
        "outputId": "9aecebc9-82d8-4c63-b6a2-7812eab88e20"
      },
      "execution_count": 38,
      "outputs": [
        {
          "output_type": "error",
          "ename": "SyntaxError",
          "evalue": "ignored",
          "traceback": [
            "\u001b[0;36m  File \u001b[0;32m\"<ipython-input-38-32d12d02e8d8>\"\u001b[0;36m, line \u001b[0;32m1\u001b[0m\n\u001b[0;31m    resultado = def multiplicação(a,b):\u001b[0m\n\u001b[0m                ^\u001b[0m\n\u001b[0;31mSyntaxError\u001b[0m\u001b[0;31m:\u001b[0m invalid syntax\n"
          ]
        }
      ]
    },
    {
      "cell_type": "markdown",
      "source": [
        "**Correção da professora:**"
      ],
      "metadata": {
        "id": "E14i3mnDtqAn"
      }
    },
    {
      "cell_type": "code",
      "source": [
        "def calcular_gorjeta(conta):\n",
        "  gorjeta = conta * 0.1\n",
        "  print(f\"A gorjeta é R$: {gorjeta:.2f}\")\n",
        "calcular_gorjeta(200)"
      ],
      "metadata": {
        "colab": {
          "base_uri": "https://localhost:8080/"
        },
        "id": "5YMEyUPwuA2Q",
        "outputId": "24268fd7-71fc-4cf6-881d-e127f0d30c16"
      },
      "execution_count": 46,
      "outputs": [
        {
          "output_type": "stream",
          "name": "stdout",
          "text": [
            "A gorjeta é R$: 20.00\n"
          ]
        }
      ]
    },
    {
      "cell_type": "markdown",
      "source": [
        "**5)** Crie uma função chamada salvar_dados. Essa função deve pedir 5 números para o usuário e no final mostrar resultado dos números somados."
      ],
      "metadata": {
        "id": "fPZW6-L1hCAH"
      }
    },
    {
      "cell_type": "code",
      "source": [
        "def salvar_dados(a, b, c, d, e):\n",
        "  return a + b + a + d + e\n",
        "\n",
        "salvar_dados(1,1,1,1,1)\n",
        "\n",
        "\n"
      ],
      "metadata": {
        "id": "93LFpUSNhzUb",
        "colab": {
          "base_uri": "https://localhost:8080/"
        },
        "outputId": "65dd5e7d-1877-4d5c-f7e8-b57bbc43e4cf"
      },
      "execution_count": 39,
      "outputs": [
        {
          "output_type": "execute_result",
          "data": {
            "text/plain": [
              "5"
            ]
          },
          "metadata": {},
          "execution_count": 39
        }
      ]
    },
    {
      "cell_type": "markdown",
      "source": [
        "**Resolução da professora:**"
      ],
      "metadata": {
        "id": "VZOt9pMZuLtu"
      }
    },
    {
      "cell_type": "code",
      "source": [
        "def salvar_dados():\n",
        "  lista_numeros = []\n",
        "\n",
        "  for c in range(1,5):\n",
        "    numero = int(input(\"Digite um número: \"))\n",
        "    lista_numeros.append(numero)\n",
        "  lista_numeros\n",
        "  print(sum(lista_numeros))\n",
        "\n",
        "  salvar_dados()"
      ],
      "metadata": {
        "id": "i17tTihFuPeX"
      },
      "execution_count": 55,
      "outputs": []
    }
  ]
}
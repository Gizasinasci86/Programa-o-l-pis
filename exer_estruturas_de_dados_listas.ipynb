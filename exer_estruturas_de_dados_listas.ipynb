{
  "nbformat": 4,
  "nbformat_minor": 0,
  "metadata": {
    "colab": {
      "provenance": [],
      "include_colab_link": true
    },
    "kernelspec": {
      "name": "python3",
      "display_name": "Python 3"
    }
  },
  "cells": [
    {
      "cell_type": "markdown",
      "metadata": {
        "id": "view-in-github",
        "colab_type": "text"
      },
      "source": [
        "<a href=\"https://colab.research.google.com/github/Gizasinasci86/Programa-o-l-pis/blob/main/exer_estruturas_de_dados_listas.ipynb\" target=\"_parent\"><img src=\"https://colab.research.google.com/assets/colab-badge.svg\" alt=\"Open In Colab\"/></a>"
      ]
    },
    {
      "cell_type": "markdown",
      "metadata": {
        "id": "rbOg8bkOR1-S"
      },
      "source": [
        "### **Exercícios:** Listas"
      ]
    },
    {
      "cell_type": "markdown",
      "metadata": {
        "id": "a-cUo1AKt2IW"
      },
      "source": [
        "**1)** Crie uma lista com cinco nomes e imprima na tela o terceiro nome como no exemplo a seguir: \n",
        "\n",
        "\n",
        "> O terceiro nome da minha lista é Camila.\n",
        "\n",
        "\n"
      ]
    },
    {
      "cell_type": "code",
      "metadata": {
        "id": "6DPOgEjouUH8",
        "colab": {
          "base_uri": "https://localhost:8080/"
        },
        "outputId": "11287d9e-0c12-4d0e-fd87-2b3fbfe3b726"
      },
      "source": [
        "nomes=['Ana', 'Rafael', 'Geovanna', 'Geovana', 'Giovana', 'Giovane', 'Maria Clara', 'Maisa','João', 'Eloisa','Daniel', 'João Henrique', 'João Victor','Manuel']\n",
        "\n",
        "print(f'O terceiro nome da minha lista é {nomes[2]}.')"
      ],
      "execution_count": 5,
      "outputs": [
        {
          "output_type": "stream",
          "name": "stdout",
          "text": [
            "O terceiro nome da minha lista é Geovanna.\n"
          ]
        }
      ]
    },
    {
      "cell_type": "markdown",
      "metadata": {
        "id": "EndR-0AhukOv"
      },
      "source": [
        "**2)** Adicione o nome Fábio na sua lista."
      ]
    },
    {
      "cell_type": "code",
      "metadata": {
        "id": "eUNwHttvujuw",
        "colab": {
          "base_uri": "https://localhost:8080/"
        },
        "outputId": "9614942c-bd3d-4abe-cd85-567aa373031a"
      },
      "source": [
        "nomes.append('Fábio')\n",
        "\n",
        "nomes"
      ],
      "execution_count": 6,
      "outputs": [
        {
          "output_type": "execute_result",
          "data": {
            "text/plain": [
              "['Ana',\n",
              " 'Rafael',\n",
              " 'Geovanna',\n",
              " 'Geovana',\n",
              " 'Giovana',\n",
              " 'Giovane',\n",
              " 'Maria Clara',\n",
              " 'Maisa',\n",
              " 'João',\n",
              " 'Eloisa',\n",
              " 'Daniel',\n",
              " 'João Henrique',\n",
              " 'João Victor',\n",
              " 'Manuel',\n",
              " 'Fábio']"
            ]
          },
          "metadata": {},
          "execution_count": 6
        }
      ]
    },
    {
      "cell_type": "markdown",
      "metadata": {
        "id": "kKVt1AZ6uWio"
      },
      "source": [
        "**3)** Adicione o nome Alice no início da sua lista."
      ]
    },
    {
      "cell_type": "code",
      "metadata": {
        "id": "p-VtXaMJvJDO",
        "colab": {
          "base_uri": "https://localhost:8080/"
        },
        "outputId": "35f8b27b-e894-4e05-e650-65c2ba147ea3"
      },
      "source": [
        "nomes.insert(0, 'Alice')\n",
        "\n",
        "nomes"
      ],
      "execution_count": 7,
      "outputs": [
        {
          "output_type": "execute_result",
          "data": {
            "text/plain": [
              "['Alice',\n",
              " 'Ana',\n",
              " 'Rafael',\n",
              " 'Geovanna',\n",
              " 'Geovana',\n",
              " 'Giovana',\n",
              " 'Giovane',\n",
              " 'Maria Clara',\n",
              " 'Maisa',\n",
              " 'João',\n",
              " 'Eloisa',\n",
              " 'Daniel',\n",
              " 'João Henrique',\n",
              " 'João Victor',\n",
              " 'Manuel',\n",
              " 'Fábio']"
            ]
          },
          "metadata": {},
          "execution_count": 7
        }
      ]
    },
    {
      "cell_type": "markdown",
      "metadata": {
        "id": "Sf9zG_NBvZ3K"
      },
      "source": [
        "**4)** Coloque sua lista de nomes em ordem alfabética."
      ]
    },
    {
      "cell_type": "code",
      "metadata": {
        "id": "AG5GKp3DvgdR",
        "colab": {
          "base_uri": "https://localhost:8080/"
        },
        "outputId": "39b77ac4-0e77-48da-fb5f-3486558815d9"
      },
      "source": [
        "nomes.sort()\n",
        "nomes"
      ],
      "execution_count": 8,
      "outputs": [
        {
          "output_type": "execute_result",
          "data": {
            "text/plain": [
              "['Alice',\n",
              " 'Ana',\n",
              " 'Daniel',\n",
              " 'Eloisa',\n",
              " 'Fábio',\n",
              " 'Geovana',\n",
              " 'Geovanna',\n",
              " 'Giovana',\n",
              " 'Giovane',\n",
              " 'João',\n",
              " 'João Henrique',\n",
              " 'João Victor',\n",
              " 'Maisa',\n",
              " 'Manuel',\n",
              " 'Maria Clara',\n",
              " 'Rafael']"
            ]
          },
          "metadata": {},
          "execution_count": 8
        }
      ]
    },
    {
      "cell_type": "markdown",
      "metadata": {
        "id": "ZhODviLrv2kM"
      },
      "source": [
        "**5)** Remova o terceiro nome da sua lista."
      ]
    },
    {
      "cell_type": "code",
      "metadata": {
        "id": "SZNmmEQSAEJz",
        "colab": {
          "base_uri": "https://localhost:8080/"
        },
        "outputId": "9d520f73-2ba0-45b4-9558-22430b52327e"
      },
      "source": [
        "nomes.remove('Daniel')\n",
        "\n",
        "nomes"
      ],
      "execution_count": 9,
      "outputs": [
        {
          "output_type": "execute_result",
          "data": {
            "text/plain": [
              "['Alice',\n",
              " 'Ana',\n",
              " 'Eloisa',\n",
              " 'Fábio',\n",
              " 'Geovana',\n",
              " 'Geovanna',\n",
              " 'Giovana',\n",
              " 'Giovane',\n",
              " 'João',\n",
              " 'João Henrique',\n",
              " 'João Victor',\n",
              " 'Maisa',\n",
              " 'Manuel',\n",
              " 'Maria Clara',\n",
              " 'Rafael']"
            ]
          },
          "metadata": {},
          "execution_count": 9
        }
      ]
    }
  ]
}
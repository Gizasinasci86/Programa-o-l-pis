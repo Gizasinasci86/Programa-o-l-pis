{
  "nbformat": 4,
  "nbformat_minor": 0,
  "metadata": {
    "colab": {
      "provenance": [],
      "include_colab_link": true
    },
    "kernelspec": {
      "name": "python3",
      "display_name": "Python 3"
    }
  },
  "cells": [
    {
      "cell_type": "markdown",
      "metadata": {
        "id": "view-in-github",
        "colab_type": "text"
      },
      "source": [
        "<a href=\"https://colab.research.google.com/github/Gizasinasci86/Programa-o-l-pis/blob/main/Estudos_Estruturas_de_dados_listas.ipynb\" target=\"_parent\"><img src=\"https://colab.research.google.com/assets/colab-badge.svg\" alt=\"Open In Colab\"/></a>"
      ]
    },
    {
      "cell_type": "markdown",
      "metadata": {
        "id": "rbOg8bkOR1-S"
      },
      "source": [
        "### **Estrutura de dados:** Listas"
      ]
    },
    {
      "cell_type": "code",
      "metadata": {
        "id": "H-qnBJRxiaH8"
      },
      "source": [
        "# Lista é uma variável que pode guardar muitos valores. Assim criamos uma lista. Filmes não será uma variável simples, mas sim uma lista.\n",
        " \n",
        "filmes = ['Titanic', 'Batman', 'Avatar', 'A múmia', 'Rock Balboa'] "
      ],
      "execution_count": 25,
      "outputs": []
    },
    {
      "cell_type": "code",
      "metadata": {
        "id": "nkf9LB-g4lRI",
        "colab": {
          "base_uri": "https://localhost:8080/"
        },
        "outputId": "d8e723ea-b9d3-4f88-a248-c592276f2c03"
      },
      "source": [
        "#Em uma lista pode haver string, números, sendo possível variar os elementos dentro dela.\n",
        "\n",
        "filmes\n"
      ],
      "execution_count": 22,
      "outputs": [
        {
          "output_type": "execute_result",
          "data": {
            "text/plain": [
              "['Titanic', 'Batman', 'Avatar', 'A múmia', 'Rock Balboa']"
            ]
          },
          "metadata": {},
          "execution_count": 22
        }
      ]
    },
    {
      "cell_type": "code",
      "metadata": {
        "id": "kokD9Hdb4mtP",
        "colab": {
          "base_uri": "https://localhost:8080/",
          "height": 36
        },
        "outputId": "3b9f31d0-5d70-47e2-fa30-ad8e942231b7"
      },
      "source": [
        "# Se eu quiser saber quem é o primeiro item da minha lista? A sequencia da contagem começa em \"zero\". Zero significa o primeiro item da lista, o um é o segundo, e assim por diante.\n",
        "filmes[0] "
      ],
      "execution_count": 23,
      "outputs": [
        {
          "output_type": "execute_result",
          "data": {
            "text/plain": [
              "'Titanic'"
            ],
            "application/vnd.google.colaboratory.intrinsic+json": {
              "type": "string"
            }
          },
          "metadata": {},
          "execution_count": 23
        }
      ]
    },
    {
      "cell_type": "code",
      "metadata": {
        "id": "vYGjj5eq5InL"
      },
      "source": [
        "# Acrescentar um item na lista\n",
        "#filmes.append()\n",
        "\n",
        "filmes.append('O auto da compadecida')\n"
      ],
      "execution_count": 27,
      "outputs": []
    },
    {
      "cell_type": "code",
      "source": [
        "filmes"
      ],
      "metadata": {
        "colab": {
          "base_uri": "https://localhost:8080/"
        },
        "id": "0vqRrVD6EaTv",
        "outputId": "6a20499c-d9ad-424a-b206-90a3e82c18ce"
      },
      "execution_count": 28,
      "outputs": [
        {
          "output_type": "execute_result",
          "data": {
            "text/plain": [
              "['Titanic',\n",
              " 'Batman',\n",
              " 'Avatar',\n",
              " 'A múmia',\n",
              " 'Rock Balboa',\n",
              " 'O auto da compadecida']"
            ]
          },
          "metadata": {},
          "execution_count": 28
        }
      ]
    },
    {
      "cell_type": "code",
      "metadata": {
        "id": "umjcM08e5Qbp"
      },
      "source": [
        "# Remover um item na lista- filmes.remove() \n",
        "\n",
        "filmes.remove('Avatar')"
      ],
      "execution_count": 18,
      "outputs": []
    },
    {
      "cell_type": "code",
      "source": [
        "filmes"
      ],
      "metadata": {
        "colab": {
          "base_uri": "https://localhost:8080/"
        },
        "id": "rJgOl6F9Ee5V",
        "outputId": "54aa337a-73a3-48a8-f7d0-739f6b259415"
      },
      "execution_count": 29,
      "outputs": [
        {
          "output_type": "execute_result",
          "data": {
            "text/plain": [
              "['Titanic',\n",
              " 'Batman',\n",
              " 'Avatar',\n",
              " 'A múmia',\n",
              " 'Rock Balboa',\n",
              " 'O auto da compadecida']"
            ]
          },
          "metadata": {},
          "execution_count": 29
        }
      ]
    },
    {
      "cell_type": "code",
      "metadata": {
        "id": "4MPdk5Xp5yNf"
      },
      "source": [
        "# Acrescentar um ítem em uma posição específica\n",
        "\n",
        "filmes.insert(0, 'Glacial') \n",
        "filmes.insert(5,'Onze homens e um segredo')\n",
        "filmes.insert(1,'Uma linda mulher')"
      ],
      "execution_count": 45,
      "outputs": []
    },
    {
      "cell_type": "code",
      "source": [
        "filmes"
      ],
      "metadata": {
        "colab": {
          "base_uri": "https://localhost:8080/"
        },
        "id": "R7xDjDLHF7VL",
        "outputId": "0306651d-c3b9-4cff-8801-110cbec0cc45"
      },
      "execution_count": 46,
      "outputs": [
        {
          "output_type": "execute_result",
          "data": {
            "text/plain": [
              "['Glacial',\n",
              " 'Uma linda mulher',\n",
              " 'A múmia',\n",
              " 'Avatar',\n",
              " 'Batman',\n",
              " 'Efeito borboleta',\n",
              " 'Onze homens e um segredo',\n",
              " 'Efeito borboleta',\n",
              " 'Efeito borboleta',\n",
              " 'Efeito borboleta',\n",
              " 'Efeito borboleta',\n",
              " 'Glacial',\n",
              " 'Glacial',\n",
              " 'O auto da compadecida',\n",
              " 'Onze homens e um segredo',\n",
              " 'Rock Balboa',\n",
              " 'Titanic',\n",
              " 'Uma linda mulher']"
            ]
          },
          "metadata": {},
          "execution_count": 46
        }
      ]
    },
    {
      "cell_type": "markdown",
      "source": [
        "O filme \"Efeito borboleta\" apareceu mais de uma vez na minha lista. Ainda não sei o que houve ☹"
      ],
      "metadata": {
        "id": "z6zHU55MG4-j"
      }
    },
    {
      "cell_type": "code",
      "metadata": {
        "id": "6D-i0_Xy6Cwi"
      },
      "source": [
        "filmes.sort() # Ordenar em ordem alfabética"
      ],
      "execution_count": 47,
      "outputs": []
    },
    {
      "cell_type": "code",
      "source": [
        "filmes"
      ],
      "metadata": {
        "colab": {
          "base_uri": "https://localhost:8080/"
        },
        "id": "pN9RLLtuGiBP",
        "outputId": "3e90cb1e-7800-4d53-b7e1-1684cd3c3802"
      },
      "execution_count": 48,
      "outputs": [
        {
          "output_type": "execute_result",
          "data": {
            "text/plain": [
              "['A múmia',\n",
              " 'Avatar',\n",
              " 'Batman',\n",
              " 'Efeito borboleta',\n",
              " 'Efeito borboleta',\n",
              " 'Efeito borboleta',\n",
              " 'Efeito borboleta',\n",
              " 'Efeito borboleta',\n",
              " 'Glacial',\n",
              " 'Glacial',\n",
              " 'Glacial',\n",
              " 'O auto da compadecida',\n",
              " 'Onze homens e um segredo',\n",
              " 'Onze homens e um segredo',\n",
              " 'Rock Balboa',\n",
              " 'Titanic',\n",
              " 'Uma linda mulher',\n",
              " 'Uma linda mulher']"
            ]
          },
          "metadata": {},
          "execution_count": 48
        }
      ]
    },
    {
      "cell_type": "markdown",
      "source": [
        "# **Exercícios:** todos corretos!!! ❤\n",
        "Aos poucos tudo vai fazendo sentindo :)"
      ],
      "metadata": {
        "id": "TmHjy4wYJuai"
      }
    },
    {
      "cell_type": "markdown",
      "metadata": {
        "id": "a-cUo1AKt2IW"
      },
      "source": [
        "**1)** Crie uma lista com cinco nomes e imprima na tela o terceiro nome como no exemplo a seguir: \n",
        "\n",
        "\n",
        "> O terceiro nome da minha lista é Camila.\n",
        "\n",
        "\n"
      ]
    },
    {
      "cell_type": "code",
      "metadata": {
        "id": "6DPOgEjouUH8",
        "colab": {
          "base_uri": "https://localhost:8080/"
        },
        "outputId": "68510b1a-5684-4fdd-92f4-80f3ea1b2fcd"
      },
      "source": [
        "nome = ['Gisele', 'Ana', 'Camila', 'Lucas', 'Marcos']\n",
        "\n",
        "print(f'O terceiro nome da lista é {nome[2]}.')"
      ],
      "execution_count": 50,
      "outputs": [
        {
          "output_type": "stream",
          "name": "stdout",
          "text": [
            "O terceiro nome da lista é Camila.\n"
          ]
        }
      ]
    },
    {
      "cell_type": "markdown",
      "metadata": {
        "id": "EndR-0AhukOv"
      },
      "source": [
        "**2)** Adicione o nome Fábio na sua lista."
      ]
    },
    {
      "cell_type": "code",
      "metadata": {
        "id": "eUNwHttvujuw"
      },
      "source": [
        "nome.append('Fábio')"
      ],
      "execution_count": 53,
      "outputs": []
    },
    {
      "cell_type": "code",
      "source": [
        "nome"
      ],
      "metadata": {
        "colab": {
          "base_uri": "https://localhost:8080/"
        },
        "id": "8RbHxcn7HbmK",
        "outputId": "59a3b0c3-1a3b-4ae5-ada6-a2f8dcab33a5"
      },
      "execution_count": 54,
      "outputs": [
        {
          "output_type": "execute_result",
          "data": {
            "text/plain": [
              "['Gisele', 'Ana', 'Camila', 'Lucas', 'Marcos', 'Fábio']"
            ]
          },
          "metadata": {},
          "execution_count": 54
        }
      ]
    },
    {
      "cell_type": "markdown",
      "metadata": {
        "id": "kKVt1AZ6uWio"
      },
      "source": [
        "**3)** Adicione o nome Alice no início da sua lista."
      ]
    },
    {
      "cell_type": "code",
      "metadata": {
        "id": "p-VtXaMJvJDO"
      },
      "source": [
        "nome.insert(0,'Alice')"
      ],
      "execution_count": 56,
      "outputs": []
    },
    {
      "cell_type": "code",
      "source": [
        "nome"
      ],
      "metadata": {
        "colab": {
          "base_uri": "https://localhost:8080/"
        },
        "id": "ndfxGacKH07r",
        "outputId": "57e20197-a50d-46d4-e4f9-2596f21d7183"
      },
      "execution_count": 57,
      "outputs": [
        {
          "output_type": "execute_result",
          "data": {
            "text/plain": [
              "['Alice', 'Gisele', 'Ana', 'Camila', 'Lucas', 'Marcos', 'Fábio']"
            ]
          },
          "metadata": {},
          "execution_count": 57
        }
      ]
    },
    {
      "cell_type": "markdown",
      "metadata": {
        "id": "Sf9zG_NBvZ3K"
      },
      "source": [
        "**4)** Coloque sua lista de nomes em ordem alfabética."
      ]
    },
    {
      "cell_type": "code",
      "metadata": {
        "id": "AG5GKp3DvgdR"
      },
      "source": [
        "nome.sort()"
      ],
      "execution_count": 58,
      "outputs": []
    },
    {
      "cell_type": "code",
      "source": [
        "nome"
      ],
      "metadata": {
        "colab": {
          "base_uri": "https://localhost:8080/"
        },
        "id": "BlxcqcO8IBb7",
        "outputId": "122306d3-dd28-4a5a-b6d8-18af8d400167"
      },
      "execution_count": 59,
      "outputs": [
        {
          "output_type": "execute_result",
          "data": {
            "text/plain": [
              "['Alice', 'Ana', 'Camila', 'Fábio', 'Gisele', 'Lucas', 'Marcos']"
            ]
          },
          "metadata": {},
          "execution_count": 59
        }
      ]
    },
    {
      "cell_type": "markdown",
      "metadata": {
        "id": "ZhODviLrv2kM"
      },
      "source": [
        "\n",
        "\n",
        "```\n",
        "# This is formatted as code\n",
        "```\n",
        "\n",
        "**5)** Remova o terceiro nome da sua lista."
      ]
    },
    {
      "cell_type": "code",
      "metadata": {
        "id": "SZNmmEQSAEJz"
      },
      "source": [
        "nome.remove('Camila')"
      ],
      "execution_count": 63,
      "outputs": []
    },
    {
      "cell_type": "code",
      "source": [
        "nome"
      ],
      "metadata": {
        "colab": {
          "base_uri": "https://localhost:8080/"
        },
        "id": "jOhBtCakIOby",
        "outputId": "8a65374b-0960-4dbd-83c6-b7e2eec427a8"
      },
      "execution_count": 64,
      "outputs": [
        {
          "output_type": "execute_result",
          "data": {
            "text/plain": [
              "['Alice', 'Ana', 'Fábio', 'Gisele', 'Lucas', 'Marcos']"
            ]
          },
          "metadata": {},
          "execution_count": 64
        }
      ]
    }
  ]
}
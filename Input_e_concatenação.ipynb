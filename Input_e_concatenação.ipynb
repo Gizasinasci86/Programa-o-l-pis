{
  "nbformat": 4,
  "nbformat_minor": 0,
  "metadata": {
    "colab": {
      "provenance": [],
      "authorship_tag": "ABX9TyOr7ExBH0HraGbR3+7iQR47",
      "include_colab_link": true
    },
    "kernelspec": {
      "name": "python3",
      "display_name": "Python 3"
    },
    "language_info": {
      "name": "python"
    }
  },
  "cells": [
    {
      "cell_type": "markdown",
      "metadata": {
        "id": "view-in-github",
        "colab_type": "text"
      },
      "source": [
        "<a href=\"https://colab.research.google.com/github/Gizasinasci86/Programa-o-l-pis/blob/main/Input_e_concatena%C3%A7%C3%A3o.ipynb\" target=\"_parent\"><img src=\"https://colab.research.google.com/assets/colab-badge.svg\" alt=\"Open In Colab\"/></a>"
      ]
    },
    {
      "cell_type": "code",
      "execution_count": null,
      "metadata": {
        "id": "zlLUChip6FuX"
      },
      "outputs": [],
      "source": []
    },
    {
      "cell_type": "markdown",
      "source": [
        "# **INPUT**"
      ],
      "metadata": {
        "id": "FM-Bpxkk6HMO"
      }
    },
    {
      "cell_type": "code",
      "source": [
        "nome = input('Qual é o seu nome?')"
      ],
      "metadata": {
        "colab": {
          "base_uri": "https://localhost:8080/"
        },
        "id": "4XuVG-sL6X6p",
        "outputId": "1c514c79-75e7-4a02-cf7c-2f773b432e47"
      },
      "execution_count": 9,
      "outputs": [
        {
          "name": "stdout",
          "output_type": "stream",
          "text": [
            "Qual é o seu nome?Alana\n"
          ]
        }
      ]
    },
    {
      "cell_type": "code",
      "source": [
        "print(nome)"
      ],
      "metadata": {
        "colab": {
          "base_uri": "https://localhost:8080/"
        },
        "id": "INr7Qw-z7Afg",
        "outputId": "9597c072-7f8a-42cf-8383-2853d82d6f6b"
      },
      "execution_count": 10,
      "outputs": [
        {
          "output_type": "stream",
          "name": "stdout",
          "text": [
            "Alana\n"
          ]
        }
      ]
    },
    {
      "cell_type": "markdown",
      "source": [
        "# **Concatenação**"
      ],
      "metadata": {
        "id": "X4LtXLLe7rWX"
      }
    },
    {
      "cell_type": "code",
      "source": [
        "print(f'Seja bem vinda, {nome}!')"
      ],
      "metadata": {
        "colab": {
          "base_uri": "https://localhost:8080/"
        },
        "id": "ObnmbVVX7yfH",
        "outputId": "c63f1ee8-9f0b-449d-893f-9ca049364075"
      },
      "execution_count": 11,
      "outputs": [
        {
          "output_type": "stream",
          "name": "stdout",
          "text": [
            "Seja bem vinda, Alana!\n"
          ]
        }
      ]
    },
    {
      "cell_type": "code",
      "source": [
        "idade= int(input(\"Quantos anos você tem?\n",
        "\"))"
      ],
      "metadata": {
        "colab": {
          "base_uri": "https://localhost:8080/"
        },
        "id": "LNTrCgLZ9mUF",
        "outputId": "47895204-af80-494e-f87c-11aa63a5066e"
      },
      "execution_count": 12,
      "outputs": [
        {
          "name": "stdout",
          "output_type": "stream",
          "text": [
            "Quantos anos você tem?20\n"
          ]
        }
      ]
    },
    {
      "cell_type": "code",
      "source": [
        "print(idade)"
      ],
      "metadata": {
        "colab": {
          "base_uri": "https://localhost:8080/"
        },
        "id": "fCSwS5Bi-5fl",
        "outputId": "e494c059-e61b-4a45-ecab-b751bda33e89"
      },
      "execution_count": 13,
      "outputs": [
        {
          "output_type": "stream",
          "name": "stdout",
          "text": [
            "20\n"
          ]
        }
      ]
    },
    {
      "cell_type": "code",
      "source": [
        "type(idade)\n"
      ],
      "metadata": {
        "colab": {
          "base_uri": "https://localhost:8080/"
        },
        "id": "HuIXAjw6_DE3",
        "outputId": "f5bca03c-1b6b-48c3-c064-68b4cc1f6beb"
      },
      "execution_count": 14,
      "outputs": [
        {
          "output_type": "execute_result",
          "data": {
            "text/plain": [
              "int"
            ]
          },
          "metadata": {},
          "execution_count": 14
        }
      ]
    },
    {
      "cell_type": "code",
      "source": [
        "print(f'Seu nome é {nome}, e você tem {idade} anos ;)')"
      ],
      "metadata": {
        "colab": {
          "base_uri": "https://localhost:8080/"
        },
        "id": "Bj5cLAN4_NEC",
        "outputId": "ba053d9d-4021-4820-806c-7327e3a13394"
      },
      "execution_count": 16,
      "outputs": [
        {
          "output_type": "stream",
          "name": "stdout",
          "text": [
            "Seu nome é Alana, e você tem 20 anos ;)\n"
          ]
        }
      ]
    },
    {
      "cell_type": "markdown",
      "source": [
        "# Desafio 01\n",
        "\n",
        "Crie um programa que receba dois números e imprima na tela a soma entre eles."
      ],
      "metadata": {
        "id": "-WxOwQLh_o8J"
      }
    },
    {
      "cell_type": "code",
      "source": [
        "numero_1= int(input('Digite o primeiro número:'))\n",
        "numero_2= int(input('Digite o segundo número:'))\n",
        "\n",
        "resultado = numero_1+numero_2\n",
        "\n",
        "print(f'O resultado é {resultado}')"
      ],
      "metadata": {
        "colab": {
          "base_uri": "https://localhost:8080/"
        },
        "id": "i-VcNT7MAd5A",
        "outputId": "cea413f0-1070-4172-c31e-6ff9cba6a63f"
      },
      "execution_count": 20,
      "outputs": [
        {
          "output_type": "stream",
          "name": "stdout",
          "text": [
            "Digite o primeiro número:20\n",
            "Digite o segundo número:30\n",
            "O resultado é 50\n"
          ]
        }
      ]
    },
    {
      "cell_type": "markdown",
      "source": [
        "# **Outra forma de resolver este desafio**"
      ],
      "metadata": {
        "id": "KQ_a2VeTCVmR"
      }
    },
    {
      "cell_type": "code",
      "source": [
        "numero_1= int(input('Digite o primeiro número:'))\n",
        "numero_2= int(input('Digite o segundo número:'))\n",
        "\n",
        "# Utilizando direto a função print\n",
        "\n",
        "print(f'O resultado é {numero_1 + numero_2}')"
      ],
      "metadata": {
        "colab": {
          "base_uri": "https://localhost:8080/"
        },
        "id": "MkTgt9vsClF_",
        "outputId": "9f9fdcd0-a28f-4f32-870e-d363b922b677"
      },
      "execution_count": 21,
      "outputs": [
        {
          "output_type": "stream",
          "name": "stdout",
          "text": [
            "Digite o primeiro número:20\n",
            "Digite o segundo número:30\n",
            "O resultado é 50\n"
          ]
        }
      ]
    }
  ]
}
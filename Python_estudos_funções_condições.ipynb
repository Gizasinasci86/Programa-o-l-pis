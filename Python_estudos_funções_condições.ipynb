{
  "nbformat": 4,
  "nbformat_minor": 0,
  "metadata": {
    "colab": {
      "provenance": [],
      "authorship_tag": "ABX9TyN3UNfj9CZPZ+PETVON3zhY",
      "include_colab_link": true
    },
    "kernelspec": {
      "name": "python3",
      "display_name": "Python 3"
    },
    "language_info": {
      "name": "python"
    }
  },
  "cells": [
    {
      "cell_type": "markdown",
      "metadata": {
        "id": "view-in-github",
        "colab_type": "text"
      },
      "source": [
        "<a href=\"https://colab.research.google.com/github/Gizasinasci86/Programa-o-l-pis/blob/main/Python_estudos_fun%C3%A7%C3%B5es_condi%C3%A7%C3%B5es.ipynb\" target=\"_parent\"><img src=\"https://colab.research.google.com/assets/colab-badge.svg\" alt=\"Open In Colab\"/></a>"
      ]
    },
    {
      "cell_type": "code",
      "execution_count": 3,
      "metadata": {
        "colab": {
          "base_uri": "https://localhost:8080/"
        },
        "id": "EFuVQ1MUWN4H",
        "outputId": "cc7dc0ad-4a2d-47fa-f8da-4294b30216e6"
      },
      "outputs": [
        {
          "output_type": "stream",
          "name": "stdout",
          "text": [
            "Digite a sua idade:37\n",
            "Você tem idade para dirigir.\n"
          ]
        }
      ],
      "source": [
        "idade = int(input('Digite a sua idade:'))\n",
        "\n",
        "if idade >= 18:\n",
        "  print('Você tem idade para dirigir.')\n",
        "else:\n",
        "  print('Você não tem idade para dirigir :(')"
      ]
    },
    {
      "cell_type": "code",
      "source": [
        "nota_1 = float(input('Digite a primeira nota'))\n",
        "nota_2 = float(input('Digite a segunda nota'))\n",
        "nota_3 = float(input('Digite a terceira nota'))\n",
        "\n",
        "media = (nota_1 + nota_2 + nota_3)/3\n",
        "\n",
        "if media >= 7:\n",
        "  print('Você foi aprovado!')\n",
        "else:\n",
        "  print('Infelizmente você foi reprovado!')"
      ],
      "metadata": {
        "colab": {
          "base_uri": "https://localhost:8080/"
        },
        "id": "YrcfUJYZXiC1",
        "outputId": "133df271-07ae-448a-d912-b8eefc4e900d"
      },
      "execution_count": 5,
      "outputs": [
        {
          "output_type": "stream",
          "name": "stdout",
          "text": [
            "Digite a primeira nota8\n",
            "Digite a segunda nota4\n",
            "Digite a terceira nota10\n",
            "Você foi aprovado!\n"
          ]
        }
      ]
    },
    {
      "cell_type": "markdown",
      "source": [
        "# E se o meu problema tiver mais de duas condições?"
      ],
      "metadata": {
        "id": "-zT69W7iY81T"
      }
    },
    {
      "cell_type": "code",
      "source": [
        "nota_1 = float(input('Digite a primeira nota'))\n",
        "nota_2 = float(input('Digite a segunda nota'))\n",
        "nota_3 = float(input('Digite a terceira nota'))\n",
        "\n",
        "media = (nota_1 + nota_2 + nota_3)/3\n",
        "\n",
        "if media >= 7:\n",
        "  print('Você foi aprovado!')\n",
        "elif media >= 5.6 and media <= 6.9:\n",
        "  print('Você está de recuperação. Estude e aproveite a sua segunda chance S2!')\n",
        "else:\n",
        "  print('Você foi reprovado!')\n",
        "\n",
        "# usamos a função elif até a situação for concretizada. Podemos usá-lo 'n' vezes até resovermos o problema.\n"
      ],
      "metadata": {
        "id": "u4StW0k_ZQgP"
      },
      "execution_count": 5,
      "outputs": []
    }
  ]
}